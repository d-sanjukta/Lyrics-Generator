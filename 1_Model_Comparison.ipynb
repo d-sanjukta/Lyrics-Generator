{
  "nbformat": 4,
  "nbformat_minor": 0,
  "metadata": {
    "colab": {
      "provenance": [],
      "collapsed_sections": [
        "mNZ7O523JdeX",
        "kbQTi-YRMZbh",
        "rzbZQC2KLqO5",
        "acgLGHh_XaCr",
        "jJjlYMprWzCM",
        "YvT141tKsGJn",
        "kj2biQ5K4xno",
        "MISrFAErZUGL"
      ],
      "gpuType": "T4",
      "include_colab_link": true
    },
    "kernelspec": {
      "name": "python3",
      "display_name": "Python 3"
    },
    "language_info": {
      "name": "python"
    },
    "gpuClass": "standard",
    "accelerator": "GPU",
    "widgets": {
      "application/vnd.jupyter.widget-state+json": {
        "00ed4ae0535e415f8612c9ab1a79ad00": {
          "model_module": "@jupyter-widgets/controls",
          "model_name": "HBoxModel",
          "model_module_version": "1.5.0",
          "state": {
            "_dom_classes": [],
            "_model_module": "@jupyter-widgets/controls",
            "_model_module_version": "1.5.0",
            "_model_name": "HBoxModel",
            "_view_count": null,
            "_view_module": "@jupyter-widgets/controls",
            "_view_module_version": "1.5.0",
            "_view_name": "HBoxView",
            "box_style": "",
            "children": [
              "IPY_MODEL_515bf92614dc404fb69074d4627ce0eb",
              "IPY_MODEL_597515862d8f42a69d7cd0247d911148",
              "IPY_MODEL_51d9c625d11445b1b0c3ed06c7bed27d"
            ],
            "layout": "IPY_MODEL_75a7e0609ffd4e099690b24eeaac4a38"
          }
        },
        "515bf92614dc404fb69074d4627ce0eb": {
          "model_module": "@jupyter-widgets/controls",
          "model_name": "HTMLModel",
          "model_module_version": "1.5.0",
          "state": {
            "_dom_classes": [],
            "_model_module": "@jupyter-widgets/controls",
            "_model_module_version": "1.5.0",
            "_model_name": "HTMLModel",
            "_view_count": null,
            "_view_module": "@jupyter-widgets/controls",
            "_view_module_version": "1.5.0",
            "_view_name": "HTMLView",
            "description": "",
            "description_tooltip": null,
            "layout": "IPY_MODEL_b696232a757e4d388c95d6602a97a0e2",
            "placeholder": "​",
            "style": "IPY_MODEL_8043989b21e3470f9f54d57591020b1e",
            "value": "Downloading (…)lve/main/config.json: 100%"
          }
        },
        "597515862d8f42a69d7cd0247d911148": {
          "model_module": "@jupyter-widgets/controls",
          "model_name": "FloatProgressModel",
          "model_module_version": "1.5.0",
          "state": {
            "_dom_classes": [],
            "_model_module": "@jupyter-widgets/controls",
            "_model_module_version": "1.5.0",
            "_model_name": "FloatProgressModel",
            "_view_count": null,
            "_view_module": "@jupyter-widgets/controls",
            "_view_module_version": "1.5.0",
            "_view_name": "ProgressView",
            "bar_style": "success",
            "description": "",
            "description_tooltip": null,
            "layout": "IPY_MODEL_ecbefbb34f064d8bb77605b1196e575d",
            "max": 762,
            "min": 0,
            "orientation": "horizontal",
            "style": "IPY_MODEL_b333c870c5fc4f6db3314b12f2c36ce3",
            "value": 762
          }
        },
        "51d9c625d11445b1b0c3ed06c7bed27d": {
          "model_module": "@jupyter-widgets/controls",
          "model_name": "HTMLModel",
          "model_module_version": "1.5.0",
          "state": {
            "_dom_classes": [],
            "_model_module": "@jupyter-widgets/controls",
            "_model_module_version": "1.5.0",
            "_model_name": "HTMLModel",
            "_view_count": null,
            "_view_module": "@jupyter-widgets/controls",
            "_view_module_version": "1.5.0",
            "_view_name": "HTMLView",
            "description": "",
            "description_tooltip": null,
            "layout": "IPY_MODEL_cb0630c9fea644f39d45867190118adb",
            "placeholder": "​",
            "style": "IPY_MODEL_30f0fbf237604c8ba1c641788d6a1673",
            "value": " 762/762 [00:00&lt;00:00, 28.7kB/s]"
          }
        },
        "75a7e0609ffd4e099690b24eeaac4a38": {
          "model_module": "@jupyter-widgets/base",
          "model_name": "LayoutModel",
          "model_module_version": "1.2.0",
          "state": {
            "_model_module": "@jupyter-widgets/base",
            "_model_module_version": "1.2.0",
            "_model_name": "LayoutModel",
            "_view_count": null,
            "_view_module": "@jupyter-widgets/base",
            "_view_module_version": "1.2.0",
            "_view_name": "LayoutView",
            "align_content": null,
            "align_items": null,
            "align_self": null,
            "border": null,
            "bottom": null,
            "display": null,
            "flex": null,
            "flex_flow": null,
            "grid_area": null,
            "grid_auto_columns": null,
            "grid_auto_flow": null,
            "grid_auto_rows": null,
            "grid_column": null,
            "grid_gap": null,
            "grid_row": null,
            "grid_template_areas": null,
            "grid_template_columns": null,
            "grid_template_rows": null,
            "height": null,
            "justify_content": null,
            "justify_items": null,
            "left": null,
            "margin": null,
            "max_height": null,
            "max_width": null,
            "min_height": null,
            "min_width": null,
            "object_fit": null,
            "object_position": null,
            "order": null,
            "overflow": null,
            "overflow_x": null,
            "overflow_y": null,
            "padding": null,
            "right": null,
            "top": null,
            "visibility": null,
            "width": null
          }
        },
        "b696232a757e4d388c95d6602a97a0e2": {
          "model_module": "@jupyter-widgets/base",
          "model_name": "LayoutModel",
          "model_module_version": "1.2.0",
          "state": {
            "_model_module": "@jupyter-widgets/base",
            "_model_module_version": "1.2.0",
            "_model_name": "LayoutModel",
            "_view_count": null,
            "_view_module": "@jupyter-widgets/base",
            "_view_module_version": "1.2.0",
            "_view_name": "LayoutView",
            "align_content": null,
            "align_items": null,
            "align_self": null,
            "border": null,
            "bottom": null,
            "display": null,
            "flex": null,
            "flex_flow": null,
            "grid_area": null,
            "grid_auto_columns": null,
            "grid_auto_flow": null,
            "grid_auto_rows": null,
            "grid_column": null,
            "grid_gap": null,
            "grid_row": null,
            "grid_template_areas": null,
            "grid_template_columns": null,
            "grid_template_rows": null,
            "height": null,
            "justify_content": null,
            "justify_items": null,
            "left": null,
            "margin": null,
            "max_height": null,
            "max_width": null,
            "min_height": null,
            "min_width": null,
            "object_fit": null,
            "object_position": null,
            "order": null,
            "overflow": null,
            "overflow_x": null,
            "overflow_y": null,
            "padding": null,
            "right": null,
            "top": null,
            "visibility": null,
            "width": null
          }
        },
        "8043989b21e3470f9f54d57591020b1e": {
          "model_module": "@jupyter-widgets/controls",
          "model_name": "DescriptionStyleModel",
          "model_module_version": "1.5.0",
          "state": {
            "_model_module": "@jupyter-widgets/controls",
            "_model_module_version": "1.5.0",
            "_model_name": "DescriptionStyleModel",
            "_view_count": null,
            "_view_module": "@jupyter-widgets/base",
            "_view_module_version": "1.2.0",
            "_view_name": "StyleView",
            "description_width": ""
          }
        },
        "ecbefbb34f064d8bb77605b1196e575d": {
          "model_module": "@jupyter-widgets/base",
          "model_name": "LayoutModel",
          "model_module_version": "1.2.0",
          "state": {
            "_model_module": "@jupyter-widgets/base",
            "_model_module_version": "1.2.0",
            "_model_name": "LayoutModel",
            "_view_count": null,
            "_view_module": "@jupyter-widgets/base",
            "_view_module_version": "1.2.0",
            "_view_name": "LayoutView",
            "align_content": null,
            "align_items": null,
            "align_self": null,
            "border": null,
            "bottom": null,
            "display": null,
            "flex": null,
            "flex_flow": null,
            "grid_area": null,
            "grid_auto_columns": null,
            "grid_auto_flow": null,
            "grid_auto_rows": null,
            "grid_column": null,
            "grid_gap": null,
            "grid_row": null,
            "grid_template_areas": null,
            "grid_template_columns": null,
            "grid_template_rows": null,
            "height": null,
            "justify_content": null,
            "justify_items": null,
            "left": null,
            "margin": null,
            "max_height": null,
            "max_width": null,
            "min_height": null,
            "min_width": null,
            "object_fit": null,
            "object_position": null,
            "order": null,
            "overflow": null,
            "overflow_x": null,
            "overflow_y": null,
            "padding": null,
            "right": null,
            "top": null,
            "visibility": null,
            "width": null
          }
        },
        "b333c870c5fc4f6db3314b12f2c36ce3": {
          "model_module": "@jupyter-widgets/controls",
          "model_name": "ProgressStyleModel",
          "model_module_version": "1.5.0",
          "state": {
            "_model_module": "@jupyter-widgets/controls",
            "_model_module_version": "1.5.0",
            "_model_name": "ProgressStyleModel",
            "_view_count": null,
            "_view_module": "@jupyter-widgets/base",
            "_view_module_version": "1.2.0",
            "_view_name": "StyleView",
            "bar_color": null,
            "description_width": ""
          }
        },
        "cb0630c9fea644f39d45867190118adb": {
          "model_module": "@jupyter-widgets/base",
          "model_name": "LayoutModel",
          "model_module_version": "1.2.0",
          "state": {
            "_model_module": "@jupyter-widgets/base",
            "_model_module_version": "1.2.0",
            "_model_name": "LayoutModel",
            "_view_count": null,
            "_view_module": "@jupyter-widgets/base",
            "_view_module_version": "1.2.0",
            "_view_name": "LayoutView",
            "align_content": null,
            "align_items": null,
            "align_self": null,
            "border": null,
            "bottom": null,
            "display": null,
            "flex": null,
            "flex_flow": null,
            "grid_area": null,
            "grid_auto_columns": null,
            "grid_auto_flow": null,
            "grid_auto_rows": null,
            "grid_column": null,
            "grid_gap": null,
            "grid_row": null,
            "grid_template_areas": null,
            "grid_template_columns": null,
            "grid_template_rows": null,
            "height": null,
            "justify_content": null,
            "justify_items": null,
            "left": null,
            "margin": null,
            "max_height": null,
            "max_width": null,
            "min_height": null,
            "min_width": null,
            "object_fit": null,
            "object_position": null,
            "order": null,
            "overflow": null,
            "overflow_x": null,
            "overflow_y": null,
            "padding": null,
            "right": null,
            "top": null,
            "visibility": null,
            "width": null
          }
        },
        "30f0fbf237604c8ba1c641788d6a1673": {
          "model_module": "@jupyter-widgets/controls",
          "model_name": "DescriptionStyleModel",
          "model_module_version": "1.5.0",
          "state": {
            "_model_module": "@jupyter-widgets/controls",
            "_model_module_version": "1.5.0",
            "_model_name": "DescriptionStyleModel",
            "_view_count": null,
            "_view_module": "@jupyter-widgets/base",
            "_view_module_version": "1.2.0",
            "_view_name": "StyleView",
            "description_width": ""
          }
        },
        "b71cb6a519b543fa9abac4cf4c5841b2": {
          "model_module": "@jupyter-widgets/controls",
          "model_name": "HBoxModel",
          "model_module_version": "1.5.0",
          "state": {
            "_dom_classes": [],
            "_model_module": "@jupyter-widgets/controls",
            "_model_module_version": "1.5.0",
            "_model_name": "HBoxModel",
            "_view_count": null,
            "_view_module": "@jupyter-widgets/controls",
            "_view_module_version": "1.5.0",
            "_view_name": "HBoxView",
            "box_style": "",
            "children": [
              "IPY_MODEL_66a8f5788e934c3e904a58a549b65101",
              "IPY_MODEL_ba37504207894081a27a0b70f0fbb099",
              "IPY_MODEL_67a8a3d4a4b04df984785b45747f4889"
            ],
            "layout": "IPY_MODEL_6d8849fb5fd24d8da36a4b956bd59ecc"
          }
        },
        "66a8f5788e934c3e904a58a549b65101": {
          "model_module": "@jupyter-widgets/controls",
          "model_name": "HTMLModel",
          "model_module_version": "1.5.0",
          "state": {
            "_dom_classes": [],
            "_model_module": "@jupyter-widgets/controls",
            "_model_module_version": "1.5.0",
            "_model_name": "HTMLModel",
            "_view_count": null,
            "_view_module": "@jupyter-widgets/controls",
            "_view_module_version": "1.5.0",
            "_view_name": "HTMLView",
            "description": "",
            "description_tooltip": null,
            "layout": "IPY_MODEL_7b0c0354f2c348e8a757a074dc6c52e6",
            "placeholder": "​",
            "style": "IPY_MODEL_2177bda6f69c4693be88082a2c274561",
            "value": "Downloading (…)olve/main/vocab.json: 100%"
          }
        },
        "ba37504207894081a27a0b70f0fbb099": {
          "model_module": "@jupyter-widgets/controls",
          "model_name": "FloatProgressModel",
          "model_module_version": "1.5.0",
          "state": {
            "_dom_classes": [],
            "_model_module": "@jupyter-widgets/controls",
            "_model_module_version": "1.5.0",
            "_model_name": "FloatProgressModel",
            "_view_count": null,
            "_view_module": "@jupyter-widgets/controls",
            "_view_module_version": "1.5.0",
            "_view_name": "ProgressView",
            "bar_style": "success",
            "description": "",
            "description_tooltip": null,
            "layout": "IPY_MODEL_4676ee9df57d46f59bf6ecec71c6d31c",
            "max": 1042301,
            "min": 0,
            "orientation": "horizontal",
            "style": "IPY_MODEL_3a39f02586354b429c42c2050aaf60a3",
            "value": 1042301
          }
        },
        "67a8a3d4a4b04df984785b45747f4889": {
          "model_module": "@jupyter-widgets/controls",
          "model_name": "HTMLModel",
          "model_module_version": "1.5.0",
          "state": {
            "_dom_classes": [],
            "_model_module": "@jupyter-widgets/controls",
            "_model_module_version": "1.5.0",
            "_model_name": "HTMLModel",
            "_view_count": null,
            "_view_module": "@jupyter-widgets/controls",
            "_view_module_version": "1.5.0",
            "_view_name": "HTMLView",
            "description": "",
            "description_tooltip": null,
            "layout": "IPY_MODEL_d6b19c835d83431aaab049c689b540be",
            "placeholder": "​",
            "style": "IPY_MODEL_1b8fb9a448944b38aba2e28842fba4bc",
            "value": " 1.04M/1.04M [00:00&lt;00:00, 9.63MB/s]"
          }
        },
        "6d8849fb5fd24d8da36a4b956bd59ecc": {
          "model_module": "@jupyter-widgets/base",
          "model_name": "LayoutModel",
          "model_module_version": "1.2.0",
          "state": {
            "_model_module": "@jupyter-widgets/base",
            "_model_module_version": "1.2.0",
            "_model_name": "LayoutModel",
            "_view_count": null,
            "_view_module": "@jupyter-widgets/base",
            "_view_module_version": "1.2.0",
            "_view_name": "LayoutView",
            "align_content": null,
            "align_items": null,
            "align_self": null,
            "border": null,
            "bottom": null,
            "display": null,
            "flex": null,
            "flex_flow": null,
            "grid_area": null,
            "grid_auto_columns": null,
            "grid_auto_flow": null,
            "grid_auto_rows": null,
            "grid_column": null,
            "grid_gap": null,
            "grid_row": null,
            "grid_template_areas": null,
            "grid_template_columns": null,
            "grid_template_rows": null,
            "height": null,
            "justify_content": null,
            "justify_items": null,
            "left": null,
            "margin": null,
            "max_height": null,
            "max_width": null,
            "min_height": null,
            "min_width": null,
            "object_fit": null,
            "object_position": null,
            "order": null,
            "overflow": null,
            "overflow_x": null,
            "overflow_y": null,
            "padding": null,
            "right": null,
            "top": null,
            "visibility": null,
            "width": null
          }
        },
        "7b0c0354f2c348e8a757a074dc6c52e6": {
          "model_module": "@jupyter-widgets/base",
          "model_name": "LayoutModel",
          "model_module_version": "1.2.0",
          "state": {
            "_model_module": "@jupyter-widgets/base",
            "_model_module_version": "1.2.0",
            "_model_name": "LayoutModel",
            "_view_count": null,
            "_view_module": "@jupyter-widgets/base",
            "_view_module_version": "1.2.0",
            "_view_name": "LayoutView",
            "align_content": null,
            "align_items": null,
            "align_self": null,
            "border": null,
            "bottom": null,
            "display": null,
            "flex": null,
            "flex_flow": null,
            "grid_area": null,
            "grid_auto_columns": null,
            "grid_auto_flow": null,
            "grid_auto_rows": null,
            "grid_column": null,
            "grid_gap": null,
            "grid_row": null,
            "grid_template_areas": null,
            "grid_template_columns": null,
            "grid_template_rows": null,
            "height": null,
            "justify_content": null,
            "justify_items": null,
            "left": null,
            "margin": null,
            "max_height": null,
            "max_width": null,
            "min_height": null,
            "min_width": null,
            "object_fit": null,
            "object_position": null,
            "order": null,
            "overflow": null,
            "overflow_x": null,
            "overflow_y": null,
            "padding": null,
            "right": null,
            "top": null,
            "visibility": null,
            "width": null
          }
        },
        "2177bda6f69c4693be88082a2c274561": {
          "model_module": "@jupyter-widgets/controls",
          "model_name": "DescriptionStyleModel",
          "model_module_version": "1.5.0",
          "state": {
            "_model_module": "@jupyter-widgets/controls",
            "_model_module_version": "1.5.0",
            "_model_name": "DescriptionStyleModel",
            "_view_count": null,
            "_view_module": "@jupyter-widgets/base",
            "_view_module_version": "1.2.0",
            "_view_name": "StyleView",
            "description_width": ""
          }
        },
        "4676ee9df57d46f59bf6ecec71c6d31c": {
          "model_module": "@jupyter-widgets/base",
          "model_name": "LayoutModel",
          "model_module_version": "1.2.0",
          "state": {
            "_model_module": "@jupyter-widgets/base",
            "_model_module_version": "1.2.0",
            "_model_name": "LayoutModel",
            "_view_count": null,
            "_view_module": "@jupyter-widgets/base",
            "_view_module_version": "1.2.0",
            "_view_name": "LayoutView",
            "align_content": null,
            "align_items": null,
            "align_self": null,
            "border": null,
            "bottom": null,
            "display": null,
            "flex": null,
            "flex_flow": null,
            "grid_area": null,
            "grid_auto_columns": null,
            "grid_auto_flow": null,
            "grid_auto_rows": null,
            "grid_column": null,
            "grid_gap": null,
            "grid_row": null,
            "grid_template_areas": null,
            "grid_template_columns": null,
            "grid_template_rows": null,
            "height": null,
            "justify_content": null,
            "justify_items": null,
            "left": null,
            "margin": null,
            "max_height": null,
            "max_width": null,
            "min_height": null,
            "min_width": null,
            "object_fit": null,
            "object_position": null,
            "order": null,
            "overflow": null,
            "overflow_x": null,
            "overflow_y": null,
            "padding": null,
            "right": null,
            "top": null,
            "visibility": null,
            "width": null
          }
        },
        "3a39f02586354b429c42c2050aaf60a3": {
          "model_module": "@jupyter-widgets/controls",
          "model_name": "ProgressStyleModel",
          "model_module_version": "1.5.0",
          "state": {
            "_model_module": "@jupyter-widgets/controls",
            "_model_module_version": "1.5.0",
            "_model_name": "ProgressStyleModel",
            "_view_count": null,
            "_view_module": "@jupyter-widgets/base",
            "_view_module_version": "1.2.0",
            "_view_name": "StyleView",
            "bar_color": null,
            "description_width": ""
          }
        },
        "d6b19c835d83431aaab049c689b540be": {
          "model_module": "@jupyter-widgets/base",
          "model_name": "LayoutModel",
          "model_module_version": "1.2.0",
          "state": {
            "_model_module": "@jupyter-widgets/base",
            "_model_module_version": "1.2.0",
            "_model_name": "LayoutModel",
            "_view_count": null,
            "_view_module": "@jupyter-widgets/base",
            "_view_module_version": "1.2.0",
            "_view_name": "LayoutView",
            "align_content": null,
            "align_items": null,
            "align_self": null,
            "border": null,
            "bottom": null,
            "display": null,
            "flex": null,
            "flex_flow": null,
            "grid_area": null,
            "grid_auto_columns": null,
            "grid_auto_flow": null,
            "grid_auto_rows": null,
            "grid_column": null,
            "grid_gap": null,
            "grid_row": null,
            "grid_template_areas": null,
            "grid_template_columns": null,
            "grid_template_rows": null,
            "height": null,
            "justify_content": null,
            "justify_items": null,
            "left": null,
            "margin": null,
            "max_height": null,
            "max_width": null,
            "min_height": null,
            "min_width": null,
            "object_fit": null,
            "object_position": null,
            "order": null,
            "overflow": null,
            "overflow_x": null,
            "overflow_y": null,
            "padding": null,
            "right": null,
            "top": null,
            "visibility": null,
            "width": null
          }
        },
        "1b8fb9a448944b38aba2e28842fba4bc": {
          "model_module": "@jupyter-widgets/controls",
          "model_name": "DescriptionStyleModel",
          "model_module_version": "1.5.0",
          "state": {
            "_model_module": "@jupyter-widgets/controls",
            "_model_module_version": "1.5.0",
            "_model_name": "DescriptionStyleModel",
            "_view_count": null,
            "_view_module": "@jupyter-widgets/base",
            "_view_module_version": "1.2.0",
            "_view_name": "StyleView",
            "description_width": ""
          }
        },
        "75775e88529b40ed8a380ebf3df7f9e2": {
          "model_module": "@jupyter-widgets/controls",
          "model_name": "HBoxModel",
          "model_module_version": "1.5.0",
          "state": {
            "_dom_classes": [],
            "_model_module": "@jupyter-widgets/controls",
            "_model_module_version": "1.5.0",
            "_model_name": "HBoxModel",
            "_view_count": null,
            "_view_module": "@jupyter-widgets/controls",
            "_view_module_version": "1.5.0",
            "_view_name": "HBoxView",
            "box_style": "",
            "children": [
              "IPY_MODEL_b4b524a8a5e349d598c93cb675729b03",
              "IPY_MODEL_f8584f6959ff4ae89d96c41338e5b7cd",
              "IPY_MODEL_41c38175254f45938b86f58bbd36914d"
            ],
            "layout": "IPY_MODEL_d80810b9cdca40748d7d12ad6c5d80d6"
          }
        },
        "b4b524a8a5e349d598c93cb675729b03": {
          "model_module": "@jupyter-widgets/controls",
          "model_name": "HTMLModel",
          "model_module_version": "1.5.0",
          "state": {
            "_dom_classes": [],
            "_model_module": "@jupyter-widgets/controls",
            "_model_module_version": "1.5.0",
            "_model_name": "HTMLModel",
            "_view_count": null,
            "_view_module": "@jupyter-widgets/controls",
            "_view_module_version": "1.5.0",
            "_view_name": "HTMLView",
            "description": "",
            "description_tooltip": null,
            "layout": "IPY_MODEL_6cf348f3927f468694d445ae08ac25ba",
            "placeholder": "​",
            "style": "IPY_MODEL_9b81bec5253d4e34b40661a9418244d6",
            "value": "Downloading (…)olve/main/merges.txt: 100%"
          }
        },
        "f8584f6959ff4ae89d96c41338e5b7cd": {
          "model_module": "@jupyter-widgets/controls",
          "model_name": "FloatProgressModel",
          "model_module_version": "1.5.0",
          "state": {
            "_dom_classes": [],
            "_model_module": "@jupyter-widgets/controls",
            "_model_module_version": "1.5.0",
            "_model_name": "FloatProgressModel",
            "_view_count": null,
            "_view_module": "@jupyter-widgets/controls",
            "_view_module_version": "1.5.0",
            "_view_name": "ProgressView",
            "bar_style": "success",
            "description": "",
            "description_tooltip": null,
            "layout": "IPY_MODEL_55a620a0ccda43d0b4344984d8b686de",
            "max": 456318,
            "min": 0,
            "orientation": "horizontal",
            "style": "IPY_MODEL_fec5749379214824b77dd1bd3dea0dee",
            "value": 456318
          }
        },
        "41c38175254f45938b86f58bbd36914d": {
          "model_module": "@jupyter-widgets/controls",
          "model_name": "HTMLModel",
          "model_module_version": "1.5.0",
          "state": {
            "_dom_classes": [],
            "_model_module": "@jupyter-widgets/controls",
            "_model_module_version": "1.5.0",
            "_model_name": "HTMLModel",
            "_view_count": null,
            "_view_module": "@jupyter-widgets/controls",
            "_view_module_version": "1.5.0",
            "_view_name": "HTMLView",
            "description": "",
            "description_tooltip": null,
            "layout": "IPY_MODEL_bc0def8416c64864a1ca0852a1e20709",
            "placeholder": "​",
            "style": "IPY_MODEL_52c592b8d1ef4ddba3a14dd9d6cbde01",
            "value": " 456k/456k [00:00&lt;00:00, 9.35MB/s]"
          }
        },
        "d80810b9cdca40748d7d12ad6c5d80d6": {
          "model_module": "@jupyter-widgets/base",
          "model_name": "LayoutModel",
          "model_module_version": "1.2.0",
          "state": {
            "_model_module": "@jupyter-widgets/base",
            "_model_module_version": "1.2.0",
            "_model_name": "LayoutModel",
            "_view_count": null,
            "_view_module": "@jupyter-widgets/base",
            "_view_module_version": "1.2.0",
            "_view_name": "LayoutView",
            "align_content": null,
            "align_items": null,
            "align_self": null,
            "border": null,
            "bottom": null,
            "display": null,
            "flex": null,
            "flex_flow": null,
            "grid_area": null,
            "grid_auto_columns": null,
            "grid_auto_flow": null,
            "grid_auto_rows": null,
            "grid_column": null,
            "grid_gap": null,
            "grid_row": null,
            "grid_template_areas": null,
            "grid_template_columns": null,
            "grid_template_rows": null,
            "height": null,
            "justify_content": null,
            "justify_items": null,
            "left": null,
            "margin": null,
            "max_height": null,
            "max_width": null,
            "min_height": null,
            "min_width": null,
            "object_fit": null,
            "object_position": null,
            "order": null,
            "overflow": null,
            "overflow_x": null,
            "overflow_y": null,
            "padding": null,
            "right": null,
            "top": null,
            "visibility": null,
            "width": null
          }
        },
        "6cf348f3927f468694d445ae08ac25ba": {
          "model_module": "@jupyter-widgets/base",
          "model_name": "LayoutModel",
          "model_module_version": "1.2.0",
          "state": {
            "_model_module": "@jupyter-widgets/base",
            "_model_module_version": "1.2.0",
            "_model_name": "LayoutModel",
            "_view_count": null,
            "_view_module": "@jupyter-widgets/base",
            "_view_module_version": "1.2.0",
            "_view_name": "LayoutView",
            "align_content": null,
            "align_items": null,
            "align_self": null,
            "border": null,
            "bottom": null,
            "display": null,
            "flex": null,
            "flex_flow": null,
            "grid_area": null,
            "grid_auto_columns": null,
            "grid_auto_flow": null,
            "grid_auto_rows": null,
            "grid_column": null,
            "grid_gap": null,
            "grid_row": null,
            "grid_template_areas": null,
            "grid_template_columns": null,
            "grid_template_rows": null,
            "height": null,
            "justify_content": null,
            "justify_items": null,
            "left": null,
            "margin": null,
            "max_height": null,
            "max_width": null,
            "min_height": null,
            "min_width": null,
            "object_fit": null,
            "object_position": null,
            "order": null,
            "overflow": null,
            "overflow_x": null,
            "overflow_y": null,
            "padding": null,
            "right": null,
            "top": null,
            "visibility": null,
            "width": null
          }
        },
        "9b81bec5253d4e34b40661a9418244d6": {
          "model_module": "@jupyter-widgets/controls",
          "model_name": "DescriptionStyleModel",
          "model_module_version": "1.5.0",
          "state": {
            "_model_module": "@jupyter-widgets/controls",
            "_model_module_version": "1.5.0",
            "_model_name": "DescriptionStyleModel",
            "_view_count": null,
            "_view_module": "@jupyter-widgets/base",
            "_view_module_version": "1.2.0",
            "_view_name": "StyleView",
            "description_width": ""
          }
        },
        "55a620a0ccda43d0b4344984d8b686de": {
          "model_module": "@jupyter-widgets/base",
          "model_name": "LayoutModel",
          "model_module_version": "1.2.0",
          "state": {
            "_model_module": "@jupyter-widgets/base",
            "_model_module_version": "1.2.0",
            "_model_name": "LayoutModel",
            "_view_count": null,
            "_view_module": "@jupyter-widgets/base",
            "_view_module_version": "1.2.0",
            "_view_name": "LayoutView",
            "align_content": null,
            "align_items": null,
            "align_self": null,
            "border": null,
            "bottom": null,
            "display": null,
            "flex": null,
            "flex_flow": null,
            "grid_area": null,
            "grid_auto_columns": null,
            "grid_auto_flow": null,
            "grid_auto_rows": null,
            "grid_column": null,
            "grid_gap": null,
            "grid_row": null,
            "grid_template_areas": null,
            "grid_template_columns": null,
            "grid_template_rows": null,
            "height": null,
            "justify_content": null,
            "justify_items": null,
            "left": null,
            "margin": null,
            "max_height": null,
            "max_width": null,
            "min_height": null,
            "min_width": null,
            "object_fit": null,
            "object_position": null,
            "order": null,
            "overflow": null,
            "overflow_x": null,
            "overflow_y": null,
            "padding": null,
            "right": null,
            "top": null,
            "visibility": null,
            "width": null
          }
        },
        "fec5749379214824b77dd1bd3dea0dee": {
          "model_module": "@jupyter-widgets/controls",
          "model_name": "ProgressStyleModel",
          "model_module_version": "1.5.0",
          "state": {
            "_model_module": "@jupyter-widgets/controls",
            "_model_module_version": "1.5.0",
            "_model_name": "ProgressStyleModel",
            "_view_count": null,
            "_view_module": "@jupyter-widgets/base",
            "_view_module_version": "1.2.0",
            "_view_name": "StyleView",
            "bar_color": null,
            "description_width": ""
          }
        },
        "bc0def8416c64864a1ca0852a1e20709": {
          "model_module": "@jupyter-widgets/base",
          "model_name": "LayoutModel",
          "model_module_version": "1.2.0",
          "state": {
            "_model_module": "@jupyter-widgets/base",
            "_model_module_version": "1.2.0",
            "_model_name": "LayoutModel",
            "_view_count": null,
            "_view_module": "@jupyter-widgets/base",
            "_view_module_version": "1.2.0",
            "_view_name": "LayoutView",
            "align_content": null,
            "align_items": null,
            "align_self": null,
            "border": null,
            "bottom": null,
            "display": null,
            "flex": null,
            "flex_flow": null,
            "grid_area": null,
            "grid_auto_columns": null,
            "grid_auto_flow": null,
            "grid_auto_rows": null,
            "grid_column": null,
            "grid_gap": null,
            "grid_row": null,
            "grid_template_areas": null,
            "grid_template_columns": null,
            "grid_template_rows": null,
            "height": null,
            "justify_content": null,
            "justify_items": null,
            "left": null,
            "margin": null,
            "max_height": null,
            "max_width": null,
            "min_height": null,
            "min_width": null,
            "object_fit": null,
            "object_position": null,
            "order": null,
            "overflow": null,
            "overflow_x": null,
            "overflow_y": null,
            "padding": null,
            "right": null,
            "top": null,
            "visibility": null,
            "width": null
          }
        },
        "52c592b8d1ef4ddba3a14dd9d6cbde01": {
          "model_module": "@jupyter-widgets/controls",
          "model_name": "DescriptionStyleModel",
          "model_module_version": "1.5.0",
          "state": {
            "_model_module": "@jupyter-widgets/controls",
            "_model_module_version": "1.5.0",
            "_model_name": "DescriptionStyleModel",
            "_view_count": null,
            "_view_module": "@jupyter-widgets/base",
            "_view_module_version": "1.2.0",
            "_view_name": "StyleView",
            "description_width": ""
          }
        },
        "1c240a840bc7401da0d9fc5507bc3286": {
          "model_module": "@jupyter-widgets/controls",
          "model_name": "HBoxModel",
          "model_module_version": "1.5.0",
          "state": {
            "_dom_classes": [],
            "_model_module": "@jupyter-widgets/controls",
            "_model_module_version": "1.5.0",
            "_model_name": "HBoxModel",
            "_view_count": null,
            "_view_module": "@jupyter-widgets/controls",
            "_view_module_version": "1.5.0",
            "_view_name": "HBoxView",
            "box_style": "",
            "children": [
              "IPY_MODEL_24a7495cc4d849d48139605884593f6d",
              "IPY_MODEL_865ba766f7c649d693f0e53567091f6c",
              "IPY_MODEL_562d8779bee04c2bbe9c350c69992731"
            ],
            "layout": "IPY_MODEL_117863a427dd4545886a81ec9815f798"
          }
        },
        "24a7495cc4d849d48139605884593f6d": {
          "model_module": "@jupyter-widgets/controls",
          "model_name": "HTMLModel",
          "model_module_version": "1.5.0",
          "state": {
            "_dom_classes": [],
            "_model_module": "@jupyter-widgets/controls",
            "_model_module_version": "1.5.0",
            "_model_name": "HTMLModel",
            "_view_count": null,
            "_view_module": "@jupyter-widgets/controls",
            "_view_module_version": "1.5.0",
            "_view_name": "HTMLView",
            "description": "",
            "description_tooltip": null,
            "layout": "IPY_MODEL_cc8a3466cd464b7ab8f13abd301d1475",
            "placeholder": "​",
            "style": "IPY_MODEL_04a3a0a2864740f2b919e29a7f89cea7",
            "value": "Downloading (…)/main/tokenizer.json: 100%"
          }
        },
        "865ba766f7c649d693f0e53567091f6c": {
          "model_module": "@jupyter-widgets/controls",
          "model_name": "FloatProgressModel",
          "model_module_version": "1.5.0",
          "state": {
            "_dom_classes": [],
            "_model_module": "@jupyter-widgets/controls",
            "_model_module_version": "1.5.0",
            "_model_name": "FloatProgressModel",
            "_view_count": null,
            "_view_module": "@jupyter-widgets/controls",
            "_view_module_version": "1.5.0",
            "_view_name": "ProgressView",
            "bar_style": "success",
            "description": "",
            "description_tooltip": null,
            "layout": "IPY_MODEL_6bbcbe42ee56417b94d05b7710aa5f8d",
            "max": 1355256,
            "min": 0,
            "orientation": "horizontal",
            "style": "IPY_MODEL_06e8da58108b44c89f5562cd9dbc61b7",
            "value": 1355256
          }
        },
        "562d8779bee04c2bbe9c350c69992731": {
          "model_module": "@jupyter-widgets/controls",
          "model_name": "HTMLModel",
          "model_module_version": "1.5.0",
          "state": {
            "_dom_classes": [],
            "_model_module": "@jupyter-widgets/controls",
            "_model_module_version": "1.5.0",
            "_model_name": "HTMLModel",
            "_view_count": null,
            "_view_module": "@jupyter-widgets/controls",
            "_view_module_version": "1.5.0",
            "_view_name": "HTMLView",
            "description": "",
            "description_tooltip": null,
            "layout": "IPY_MODEL_68769ca3fb02440ebacbd73fba0d0b91",
            "placeholder": "​",
            "style": "IPY_MODEL_6c4e800d31f94046834fbb5d4db8799d",
            "value": " 1.36M/1.36M [00:00&lt;00:00, 18.4MB/s]"
          }
        },
        "117863a427dd4545886a81ec9815f798": {
          "model_module": "@jupyter-widgets/base",
          "model_name": "LayoutModel",
          "model_module_version": "1.2.0",
          "state": {
            "_model_module": "@jupyter-widgets/base",
            "_model_module_version": "1.2.0",
            "_model_name": "LayoutModel",
            "_view_count": null,
            "_view_module": "@jupyter-widgets/base",
            "_view_module_version": "1.2.0",
            "_view_name": "LayoutView",
            "align_content": null,
            "align_items": null,
            "align_self": null,
            "border": null,
            "bottom": null,
            "display": null,
            "flex": null,
            "flex_flow": null,
            "grid_area": null,
            "grid_auto_columns": null,
            "grid_auto_flow": null,
            "grid_auto_rows": null,
            "grid_column": null,
            "grid_gap": null,
            "grid_row": null,
            "grid_template_areas": null,
            "grid_template_columns": null,
            "grid_template_rows": null,
            "height": null,
            "justify_content": null,
            "justify_items": null,
            "left": null,
            "margin": null,
            "max_height": null,
            "max_width": null,
            "min_height": null,
            "min_width": null,
            "object_fit": null,
            "object_position": null,
            "order": null,
            "overflow": null,
            "overflow_x": null,
            "overflow_y": null,
            "padding": null,
            "right": null,
            "top": null,
            "visibility": null,
            "width": null
          }
        },
        "cc8a3466cd464b7ab8f13abd301d1475": {
          "model_module": "@jupyter-widgets/base",
          "model_name": "LayoutModel",
          "model_module_version": "1.2.0",
          "state": {
            "_model_module": "@jupyter-widgets/base",
            "_model_module_version": "1.2.0",
            "_model_name": "LayoutModel",
            "_view_count": null,
            "_view_module": "@jupyter-widgets/base",
            "_view_module_version": "1.2.0",
            "_view_name": "LayoutView",
            "align_content": null,
            "align_items": null,
            "align_self": null,
            "border": null,
            "bottom": null,
            "display": null,
            "flex": null,
            "flex_flow": null,
            "grid_area": null,
            "grid_auto_columns": null,
            "grid_auto_flow": null,
            "grid_auto_rows": null,
            "grid_column": null,
            "grid_gap": null,
            "grid_row": null,
            "grid_template_areas": null,
            "grid_template_columns": null,
            "grid_template_rows": null,
            "height": null,
            "justify_content": null,
            "justify_items": null,
            "left": null,
            "margin": null,
            "max_height": null,
            "max_width": null,
            "min_height": null,
            "min_width": null,
            "object_fit": null,
            "object_position": null,
            "order": null,
            "overflow": null,
            "overflow_x": null,
            "overflow_y": null,
            "padding": null,
            "right": null,
            "top": null,
            "visibility": null,
            "width": null
          }
        },
        "04a3a0a2864740f2b919e29a7f89cea7": {
          "model_module": "@jupyter-widgets/controls",
          "model_name": "DescriptionStyleModel",
          "model_module_version": "1.5.0",
          "state": {
            "_model_module": "@jupyter-widgets/controls",
            "_model_module_version": "1.5.0",
            "_model_name": "DescriptionStyleModel",
            "_view_count": null,
            "_view_module": "@jupyter-widgets/base",
            "_view_module_version": "1.2.0",
            "_view_name": "StyleView",
            "description_width": ""
          }
        },
        "6bbcbe42ee56417b94d05b7710aa5f8d": {
          "model_module": "@jupyter-widgets/base",
          "model_name": "LayoutModel",
          "model_module_version": "1.2.0",
          "state": {
            "_model_module": "@jupyter-widgets/base",
            "_model_module_version": "1.2.0",
            "_model_name": "LayoutModel",
            "_view_count": null,
            "_view_module": "@jupyter-widgets/base",
            "_view_module_version": "1.2.0",
            "_view_name": "LayoutView",
            "align_content": null,
            "align_items": null,
            "align_self": null,
            "border": null,
            "bottom": null,
            "display": null,
            "flex": null,
            "flex_flow": null,
            "grid_area": null,
            "grid_auto_columns": null,
            "grid_auto_flow": null,
            "grid_auto_rows": null,
            "grid_column": null,
            "grid_gap": null,
            "grid_row": null,
            "grid_template_areas": null,
            "grid_template_columns": null,
            "grid_template_rows": null,
            "height": null,
            "justify_content": null,
            "justify_items": null,
            "left": null,
            "margin": null,
            "max_height": null,
            "max_width": null,
            "min_height": null,
            "min_width": null,
            "object_fit": null,
            "object_position": null,
            "order": null,
            "overflow": null,
            "overflow_x": null,
            "overflow_y": null,
            "padding": null,
            "right": null,
            "top": null,
            "visibility": null,
            "width": null
          }
        },
        "06e8da58108b44c89f5562cd9dbc61b7": {
          "model_module": "@jupyter-widgets/controls",
          "model_name": "ProgressStyleModel",
          "model_module_version": "1.5.0",
          "state": {
            "_model_module": "@jupyter-widgets/controls",
            "_model_module_version": "1.5.0",
            "_model_name": "ProgressStyleModel",
            "_view_count": null,
            "_view_module": "@jupyter-widgets/base",
            "_view_module_version": "1.2.0",
            "_view_name": "StyleView",
            "bar_color": null,
            "description_width": ""
          }
        },
        "68769ca3fb02440ebacbd73fba0d0b91": {
          "model_module": "@jupyter-widgets/base",
          "model_name": "LayoutModel",
          "model_module_version": "1.2.0",
          "state": {
            "_model_module": "@jupyter-widgets/base",
            "_model_module_version": "1.2.0",
            "_model_name": "LayoutModel",
            "_view_count": null,
            "_view_module": "@jupyter-widgets/base",
            "_view_module_version": "1.2.0",
            "_view_name": "LayoutView",
            "align_content": null,
            "align_items": null,
            "align_self": null,
            "border": null,
            "bottom": null,
            "display": null,
            "flex": null,
            "flex_flow": null,
            "grid_area": null,
            "grid_auto_columns": null,
            "grid_auto_flow": null,
            "grid_auto_rows": null,
            "grid_column": null,
            "grid_gap": null,
            "grid_row": null,
            "grid_template_areas": null,
            "grid_template_columns": null,
            "grid_template_rows": null,
            "height": null,
            "justify_content": null,
            "justify_items": null,
            "left": null,
            "margin": null,
            "max_height": null,
            "max_width": null,
            "min_height": null,
            "min_width": null,
            "object_fit": null,
            "object_position": null,
            "order": null,
            "overflow": null,
            "overflow_x": null,
            "overflow_y": null,
            "padding": null,
            "right": null,
            "top": null,
            "visibility": null,
            "width": null
          }
        },
        "6c4e800d31f94046834fbb5d4db8799d": {
          "model_module": "@jupyter-widgets/controls",
          "model_name": "DescriptionStyleModel",
          "model_module_version": "1.5.0",
          "state": {
            "_model_module": "@jupyter-widgets/controls",
            "_model_module_version": "1.5.0",
            "_model_name": "DescriptionStyleModel",
            "_view_count": null,
            "_view_module": "@jupyter-widgets/base",
            "_view_module_version": "1.2.0",
            "_view_name": "StyleView",
            "description_width": ""
          }
        },
        "751a89483b7840a9be371b7014d9072e": {
          "model_module": "@jupyter-widgets/controls",
          "model_name": "HBoxModel",
          "model_module_version": "1.5.0",
          "state": {
            "_dom_classes": [],
            "_model_module": "@jupyter-widgets/controls",
            "_model_module_version": "1.5.0",
            "_model_name": "HBoxModel",
            "_view_count": null,
            "_view_module": "@jupyter-widgets/controls",
            "_view_module_version": "1.5.0",
            "_view_name": "HBoxView",
            "box_style": "",
            "children": [
              "IPY_MODEL_ced9dfa0516c4c38acb619f5169ed8c6",
              "IPY_MODEL_d40fb274d42c45879aee450c7fe5b45f",
              "IPY_MODEL_5172050e4fee43fea090e01c5f92ec54"
            ],
            "layout": "IPY_MODEL_9d9eae3e563e45ccb738ac0f37d55695"
          }
        },
        "ced9dfa0516c4c38acb619f5169ed8c6": {
          "model_module": "@jupyter-widgets/controls",
          "model_name": "HTMLModel",
          "model_module_version": "1.5.0",
          "state": {
            "_dom_classes": [],
            "_model_module": "@jupyter-widgets/controls",
            "_model_module_version": "1.5.0",
            "_model_name": "HTMLModel",
            "_view_count": null,
            "_view_module": "@jupyter-widgets/controls",
            "_view_module_version": "1.5.0",
            "_view_name": "HTMLView",
            "description": "",
            "description_tooltip": null,
            "layout": "IPY_MODEL_9b19a3e35ac34e21a79ab8c5831a4f0c",
            "placeholder": "​",
            "style": "IPY_MODEL_5783762d38fd46a5885dea677483a9ad",
            "value": "Downloading tf_model.h5: 100%"
          }
        },
        "d40fb274d42c45879aee450c7fe5b45f": {
          "model_module": "@jupyter-widgets/controls",
          "model_name": "FloatProgressModel",
          "model_module_version": "1.5.0",
          "state": {
            "_dom_classes": [],
            "_model_module": "@jupyter-widgets/controls",
            "_model_module_version": "1.5.0",
            "_model_name": "FloatProgressModel",
            "_view_count": null,
            "_view_module": "@jupyter-widgets/controls",
            "_view_module_version": "1.5.0",
            "_view_name": "ProgressView",
            "bar_style": "success",
            "description": "",
            "description_tooltip": null,
            "layout": "IPY_MODEL_0c1ab1e3341c45ec8cd574d25a7a7cb3",
            "max": 327744160,
            "min": 0,
            "orientation": "horizontal",
            "style": "IPY_MODEL_feeea9ee04074442869c82da9cad3fa3",
            "value": 327744160
          }
        },
        "5172050e4fee43fea090e01c5f92ec54": {
          "model_module": "@jupyter-widgets/controls",
          "model_name": "HTMLModel",
          "model_module_version": "1.5.0",
          "state": {
            "_dom_classes": [],
            "_model_module": "@jupyter-widgets/controls",
            "_model_module_version": "1.5.0",
            "_model_name": "HTMLModel",
            "_view_count": null,
            "_view_module": "@jupyter-widgets/controls",
            "_view_module_version": "1.5.0",
            "_view_name": "HTMLView",
            "description": "",
            "description_tooltip": null,
            "layout": "IPY_MODEL_e534c7ef7443479c8fdf9c6f5307bc0f",
            "placeholder": "​",
            "style": "IPY_MODEL_b4dd0bd7bb764497a78a517b9c9dc408",
            "value": " 328M/328M [00:04&lt;00:00, 27.7MB/s]"
          }
        },
        "9d9eae3e563e45ccb738ac0f37d55695": {
          "model_module": "@jupyter-widgets/base",
          "model_name": "LayoutModel",
          "model_module_version": "1.2.0",
          "state": {
            "_model_module": "@jupyter-widgets/base",
            "_model_module_version": "1.2.0",
            "_model_name": "LayoutModel",
            "_view_count": null,
            "_view_module": "@jupyter-widgets/base",
            "_view_module_version": "1.2.0",
            "_view_name": "LayoutView",
            "align_content": null,
            "align_items": null,
            "align_self": null,
            "border": null,
            "bottom": null,
            "display": null,
            "flex": null,
            "flex_flow": null,
            "grid_area": null,
            "grid_auto_columns": null,
            "grid_auto_flow": null,
            "grid_auto_rows": null,
            "grid_column": null,
            "grid_gap": null,
            "grid_row": null,
            "grid_template_areas": null,
            "grid_template_columns": null,
            "grid_template_rows": null,
            "height": null,
            "justify_content": null,
            "justify_items": null,
            "left": null,
            "margin": null,
            "max_height": null,
            "max_width": null,
            "min_height": null,
            "min_width": null,
            "object_fit": null,
            "object_position": null,
            "order": null,
            "overflow": null,
            "overflow_x": null,
            "overflow_y": null,
            "padding": null,
            "right": null,
            "top": null,
            "visibility": null,
            "width": null
          }
        },
        "9b19a3e35ac34e21a79ab8c5831a4f0c": {
          "model_module": "@jupyter-widgets/base",
          "model_name": "LayoutModel",
          "model_module_version": "1.2.0",
          "state": {
            "_model_module": "@jupyter-widgets/base",
            "_model_module_version": "1.2.0",
            "_model_name": "LayoutModel",
            "_view_count": null,
            "_view_module": "@jupyter-widgets/base",
            "_view_module_version": "1.2.0",
            "_view_name": "LayoutView",
            "align_content": null,
            "align_items": null,
            "align_self": null,
            "border": null,
            "bottom": null,
            "display": null,
            "flex": null,
            "flex_flow": null,
            "grid_area": null,
            "grid_auto_columns": null,
            "grid_auto_flow": null,
            "grid_auto_rows": null,
            "grid_column": null,
            "grid_gap": null,
            "grid_row": null,
            "grid_template_areas": null,
            "grid_template_columns": null,
            "grid_template_rows": null,
            "height": null,
            "justify_content": null,
            "justify_items": null,
            "left": null,
            "margin": null,
            "max_height": null,
            "max_width": null,
            "min_height": null,
            "min_width": null,
            "object_fit": null,
            "object_position": null,
            "order": null,
            "overflow": null,
            "overflow_x": null,
            "overflow_y": null,
            "padding": null,
            "right": null,
            "top": null,
            "visibility": null,
            "width": null
          }
        },
        "5783762d38fd46a5885dea677483a9ad": {
          "model_module": "@jupyter-widgets/controls",
          "model_name": "DescriptionStyleModel",
          "model_module_version": "1.5.0",
          "state": {
            "_model_module": "@jupyter-widgets/controls",
            "_model_module_version": "1.5.0",
            "_model_name": "DescriptionStyleModel",
            "_view_count": null,
            "_view_module": "@jupyter-widgets/base",
            "_view_module_version": "1.2.0",
            "_view_name": "StyleView",
            "description_width": ""
          }
        },
        "0c1ab1e3341c45ec8cd574d25a7a7cb3": {
          "model_module": "@jupyter-widgets/base",
          "model_name": "LayoutModel",
          "model_module_version": "1.2.0",
          "state": {
            "_model_module": "@jupyter-widgets/base",
            "_model_module_version": "1.2.0",
            "_model_name": "LayoutModel",
            "_view_count": null,
            "_view_module": "@jupyter-widgets/base",
            "_view_module_version": "1.2.0",
            "_view_name": "LayoutView",
            "align_content": null,
            "align_items": null,
            "align_self": null,
            "border": null,
            "bottom": null,
            "display": null,
            "flex": null,
            "flex_flow": null,
            "grid_area": null,
            "grid_auto_columns": null,
            "grid_auto_flow": null,
            "grid_auto_rows": null,
            "grid_column": null,
            "grid_gap": null,
            "grid_row": null,
            "grid_template_areas": null,
            "grid_template_columns": null,
            "grid_template_rows": null,
            "height": null,
            "justify_content": null,
            "justify_items": null,
            "left": null,
            "margin": null,
            "max_height": null,
            "max_width": null,
            "min_height": null,
            "min_width": null,
            "object_fit": null,
            "object_position": null,
            "order": null,
            "overflow": null,
            "overflow_x": null,
            "overflow_y": null,
            "padding": null,
            "right": null,
            "top": null,
            "visibility": null,
            "width": null
          }
        },
        "feeea9ee04074442869c82da9cad3fa3": {
          "model_module": "@jupyter-widgets/controls",
          "model_name": "ProgressStyleModel",
          "model_module_version": "1.5.0",
          "state": {
            "_model_module": "@jupyter-widgets/controls",
            "_model_module_version": "1.5.0",
            "_model_name": "ProgressStyleModel",
            "_view_count": null,
            "_view_module": "@jupyter-widgets/base",
            "_view_module_version": "1.2.0",
            "_view_name": "StyleView",
            "bar_color": null,
            "description_width": ""
          }
        },
        "e534c7ef7443479c8fdf9c6f5307bc0f": {
          "model_module": "@jupyter-widgets/base",
          "model_name": "LayoutModel",
          "model_module_version": "1.2.0",
          "state": {
            "_model_module": "@jupyter-widgets/base",
            "_model_module_version": "1.2.0",
            "_model_name": "LayoutModel",
            "_view_count": null,
            "_view_module": "@jupyter-widgets/base",
            "_view_module_version": "1.2.0",
            "_view_name": "LayoutView",
            "align_content": null,
            "align_items": null,
            "align_self": null,
            "border": null,
            "bottom": null,
            "display": null,
            "flex": null,
            "flex_flow": null,
            "grid_area": null,
            "grid_auto_columns": null,
            "grid_auto_flow": null,
            "grid_auto_rows": null,
            "grid_column": null,
            "grid_gap": null,
            "grid_row": null,
            "grid_template_areas": null,
            "grid_template_columns": null,
            "grid_template_rows": null,
            "height": null,
            "justify_content": null,
            "justify_items": null,
            "left": null,
            "margin": null,
            "max_height": null,
            "max_width": null,
            "min_height": null,
            "min_width": null,
            "object_fit": null,
            "object_position": null,
            "order": null,
            "overflow": null,
            "overflow_x": null,
            "overflow_y": null,
            "padding": null,
            "right": null,
            "top": null,
            "visibility": null,
            "width": null
          }
        },
        "b4dd0bd7bb764497a78a517b9c9dc408": {
          "model_module": "@jupyter-widgets/controls",
          "model_name": "DescriptionStyleModel",
          "model_module_version": "1.5.0",
          "state": {
            "_model_module": "@jupyter-widgets/controls",
            "_model_module_version": "1.5.0",
            "_model_name": "DescriptionStyleModel",
            "_view_count": null,
            "_view_module": "@jupyter-widgets/base",
            "_view_module_version": "1.2.0",
            "_view_name": "StyleView",
            "description_width": ""
          }
        },
        "7064f7ebb874411a8fe30009bf73f1d7": {
          "model_module": "@jupyter-widgets/controls",
          "model_name": "HBoxModel",
          "model_module_version": "1.5.0",
          "state": {
            "_dom_classes": [],
            "_model_module": "@jupyter-widgets/controls",
            "_model_module_version": "1.5.0",
            "_model_name": "HBoxModel",
            "_view_count": null,
            "_view_module": "@jupyter-widgets/controls",
            "_view_module_version": "1.5.0",
            "_view_name": "HBoxView",
            "box_style": "",
            "children": [
              "IPY_MODEL_ef797c8e19f7453d90659d60442fc87d",
              "IPY_MODEL_e3214b90172f46b493f446218484be63",
              "IPY_MODEL_82f47d3cd68c4be5b6e8783684eedf0b"
            ],
            "layout": "IPY_MODEL_3a20a1b81b4a4c4eb9afa17390e153d7"
          }
        },
        "ef797c8e19f7453d90659d60442fc87d": {
          "model_module": "@jupyter-widgets/controls",
          "model_name": "HTMLModel",
          "model_module_version": "1.5.0",
          "state": {
            "_dom_classes": [],
            "_model_module": "@jupyter-widgets/controls",
            "_model_module_version": "1.5.0",
            "_model_name": "HTMLModel",
            "_view_count": null,
            "_view_module": "@jupyter-widgets/controls",
            "_view_module_version": "1.5.0",
            "_view_name": "HTMLView",
            "description": "",
            "description_tooltip": null,
            "layout": "IPY_MODEL_19aab6eb7c664064aaafcaf482d9f26d",
            "placeholder": "​",
            "style": "IPY_MODEL_9e97da0d2ece47d59a2535a3983df0a6",
            "value": "Downloading (…)neration_config.json: 100%"
          }
        },
        "e3214b90172f46b493f446218484be63": {
          "model_module": "@jupyter-widgets/controls",
          "model_name": "FloatProgressModel",
          "model_module_version": "1.5.0",
          "state": {
            "_dom_classes": [],
            "_model_module": "@jupyter-widgets/controls",
            "_model_module_version": "1.5.0",
            "_model_name": "FloatProgressModel",
            "_view_count": null,
            "_view_module": "@jupyter-widgets/controls",
            "_view_module_version": "1.5.0",
            "_view_name": "ProgressView",
            "bar_style": "success",
            "description": "",
            "description_tooltip": null,
            "layout": "IPY_MODEL_e969850a131645ef98865efc2fb35be9",
            "max": 124,
            "min": 0,
            "orientation": "horizontal",
            "style": "IPY_MODEL_28e86d430916473e8e92062e5d5c8dbb",
            "value": 124
          }
        },
        "82f47d3cd68c4be5b6e8783684eedf0b": {
          "model_module": "@jupyter-widgets/controls",
          "model_name": "HTMLModel",
          "model_module_version": "1.5.0",
          "state": {
            "_dom_classes": [],
            "_model_module": "@jupyter-widgets/controls",
            "_model_module_version": "1.5.0",
            "_model_name": "HTMLModel",
            "_view_count": null,
            "_view_module": "@jupyter-widgets/controls",
            "_view_module_version": "1.5.0",
            "_view_name": "HTMLView",
            "description": "",
            "description_tooltip": null,
            "layout": "IPY_MODEL_e2e68284eb364ff68125b7934634ecad",
            "placeholder": "​",
            "style": "IPY_MODEL_0dd8ec34b3f8491483a9eb6a14edfbef",
            "value": " 124/124 [00:00&lt;00:00, 8.23kB/s]"
          }
        },
        "3a20a1b81b4a4c4eb9afa17390e153d7": {
          "model_module": "@jupyter-widgets/base",
          "model_name": "LayoutModel",
          "model_module_version": "1.2.0",
          "state": {
            "_model_module": "@jupyter-widgets/base",
            "_model_module_version": "1.2.0",
            "_model_name": "LayoutModel",
            "_view_count": null,
            "_view_module": "@jupyter-widgets/base",
            "_view_module_version": "1.2.0",
            "_view_name": "LayoutView",
            "align_content": null,
            "align_items": null,
            "align_self": null,
            "border": null,
            "bottom": null,
            "display": null,
            "flex": null,
            "flex_flow": null,
            "grid_area": null,
            "grid_auto_columns": null,
            "grid_auto_flow": null,
            "grid_auto_rows": null,
            "grid_column": null,
            "grid_gap": null,
            "grid_row": null,
            "grid_template_areas": null,
            "grid_template_columns": null,
            "grid_template_rows": null,
            "height": null,
            "justify_content": null,
            "justify_items": null,
            "left": null,
            "margin": null,
            "max_height": null,
            "max_width": null,
            "min_height": null,
            "min_width": null,
            "object_fit": null,
            "object_position": null,
            "order": null,
            "overflow": null,
            "overflow_x": null,
            "overflow_y": null,
            "padding": null,
            "right": null,
            "top": null,
            "visibility": null,
            "width": null
          }
        },
        "19aab6eb7c664064aaafcaf482d9f26d": {
          "model_module": "@jupyter-widgets/base",
          "model_name": "LayoutModel",
          "model_module_version": "1.2.0",
          "state": {
            "_model_module": "@jupyter-widgets/base",
            "_model_module_version": "1.2.0",
            "_model_name": "LayoutModel",
            "_view_count": null,
            "_view_module": "@jupyter-widgets/base",
            "_view_module_version": "1.2.0",
            "_view_name": "LayoutView",
            "align_content": null,
            "align_items": null,
            "align_self": null,
            "border": null,
            "bottom": null,
            "display": null,
            "flex": null,
            "flex_flow": null,
            "grid_area": null,
            "grid_auto_columns": null,
            "grid_auto_flow": null,
            "grid_auto_rows": null,
            "grid_column": null,
            "grid_gap": null,
            "grid_row": null,
            "grid_template_areas": null,
            "grid_template_columns": null,
            "grid_template_rows": null,
            "height": null,
            "justify_content": null,
            "justify_items": null,
            "left": null,
            "margin": null,
            "max_height": null,
            "max_width": null,
            "min_height": null,
            "min_width": null,
            "object_fit": null,
            "object_position": null,
            "order": null,
            "overflow": null,
            "overflow_x": null,
            "overflow_y": null,
            "padding": null,
            "right": null,
            "top": null,
            "visibility": null,
            "width": null
          }
        },
        "9e97da0d2ece47d59a2535a3983df0a6": {
          "model_module": "@jupyter-widgets/controls",
          "model_name": "DescriptionStyleModel",
          "model_module_version": "1.5.0",
          "state": {
            "_model_module": "@jupyter-widgets/controls",
            "_model_module_version": "1.5.0",
            "_model_name": "DescriptionStyleModel",
            "_view_count": null,
            "_view_module": "@jupyter-widgets/base",
            "_view_module_version": "1.2.0",
            "_view_name": "StyleView",
            "description_width": ""
          }
        },
        "e969850a131645ef98865efc2fb35be9": {
          "model_module": "@jupyter-widgets/base",
          "model_name": "LayoutModel",
          "model_module_version": "1.2.0",
          "state": {
            "_model_module": "@jupyter-widgets/base",
            "_model_module_version": "1.2.0",
            "_model_name": "LayoutModel",
            "_view_count": null,
            "_view_module": "@jupyter-widgets/base",
            "_view_module_version": "1.2.0",
            "_view_name": "LayoutView",
            "align_content": null,
            "align_items": null,
            "align_self": null,
            "border": null,
            "bottom": null,
            "display": null,
            "flex": null,
            "flex_flow": null,
            "grid_area": null,
            "grid_auto_columns": null,
            "grid_auto_flow": null,
            "grid_auto_rows": null,
            "grid_column": null,
            "grid_gap": null,
            "grid_row": null,
            "grid_template_areas": null,
            "grid_template_columns": null,
            "grid_template_rows": null,
            "height": null,
            "justify_content": null,
            "justify_items": null,
            "left": null,
            "margin": null,
            "max_height": null,
            "max_width": null,
            "min_height": null,
            "min_width": null,
            "object_fit": null,
            "object_position": null,
            "order": null,
            "overflow": null,
            "overflow_x": null,
            "overflow_y": null,
            "padding": null,
            "right": null,
            "top": null,
            "visibility": null,
            "width": null
          }
        },
        "28e86d430916473e8e92062e5d5c8dbb": {
          "model_module": "@jupyter-widgets/controls",
          "model_name": "ProgressStyleModel",
          "model_module_version": "1.5.0",
          "state": {
            "_model_module": "@jupyter-widgets/controls",
            "_model_module_version": "1.5.0",
            "_model_name": "ProgressStyleModel",
            "_view_count": null,
            "_view_module": "@jupyter-widgets/base",
            "_view_module_version": "1.2.0",
            "_view_name": "StyleView",
            "bar_color": null,
            "description_width": ""
          }
        },
        "e2e68284eb364ff68125b7934634ecad": {
          "model_module": "@jupyter-widgets/base",
          "model_name": "LayoutModel",
          "model_module_version": "1.2.0",
          "state": {
            "_model_module": "@jupyter-widgets/base",
            "_model_module_version": "1.2.0",
            "_model_name": "LayoutModel",
            "_view_count": null,
            "_view_module": "@jupyter-widgets/base",
            "_view_module_version": "1.2.0",
            "_view_name": "LayoutView",
            "align_content": null,
            "align_items": null,
            "align_self": null,
            "border": null,
            "bottom": null,
            "display": null,
            "flex": null,
            "flex_flow": null,
            "grid_area": null,
            "grid_auto_columns": null,
            "grid_auto_flow": null,
            "grid_auto_rows": null,
            "grid_column": null,
            "grid_gap": null,
            "grid_row": null,
            "grid_template_areas": null,
            "grid_template_columns": null,
            "grid_template_rows": null,
            "height": null,
            "justify_content": null,
            "justify_items": null,
            "left": null,
            "margin": null,
            "max_height": null,
            "max_width": null,
            "min_height": null,
            "min_width": null,
            "object_fit": null,
            "object_position": null,
            "order": null,
            "overflow": null,
            "overflow_x": null,
            "overflow_y": null,
            "padding": null,
            "right": null,
            "top": null,
            "visibility": null,
            "width": null
          }
        },
        "0dd8ec34b3f8491483a9eb6a14edfbef": {
          "model_module": "@jupyter-widgets/controls",
          "model_name": "DescriptionStyleModel",
          "model_module_version": "1.5.0",
          "state": {
            "_model_module": "@jupyter-widgets/controls",
            "_model_module_version": "1.5.0",
            "_model_name": "DescriptionStyleModel",
            "_view_count": null,
            "_view_module": "@jupyter-widgets/base",
            "_view_module_version": "1.2.0",
            "_view_name": "StyleView",
            "description_width": ""
          }
        }
      }
    }
  },
  "cells": [
    {
      "cell_type": "markdown",
      "metadata": {
        "id": "view-in-github",
        "colab_type": "text"
      },
      "source": [
        "<a href=\"https://colab.research.google.com/github/d-sanjukta/Lyrics-Generator/blob/main/1_Model_Comparison.ipynb\" target=\"_parent\"><img src=\"https://colab.research.google.com/assets/colab-badge.svg\" alt=\"Open In Colab\"/></a>"
      ]
    },
    {
      "cell_type": "markdown",
      "source": [
        "## <b><u>Language Model Comparision</b></u> :\n",
        "<h4>\n",
        "To compare the performance of three different lyric-generating models (**Bi-directional LSTM, GPT2, and Distill-GPT2**) specifically in the rock genre, the following steps will be undertaken:\n",
        "\n",
        "*  **Training**: The models will be trained using a dataset consisting of rock song lyrics. While the Bi-directional LSTM model will be trained, it will not be utilized for lyric generation as it is expected that its performance will not surpass that of GPT2 and Distill-GPT2. Instead, it will serve as a baseline model to monitor the trend of loss during the training process.\n",
        "\n",
        "* **Sample Selection**: A set of 20 random samples will be selected from the validation dataset.\n",
        "\n",
        "* **Prediction Generation**: For each sample, GPT2 and Distill-GPT2 models will be used. The models will be provided with the initial 28 tokens of the lyrics and tasked with generating the subsequent 128 tokens to complete the lyrics. This approach aims to evaluate the models' ability to maintain the lyrical flow and capture the essence of the rock genre.\n",
        "\n",
        "* **Result Comparison**: The generated predictions from GPT2 and Distill-GPT2 models will be compared for each sample. The evaluation criteria will consider lyrical coherence and thematic consistency. The objective will be to determine which model demonstrates comparatively superior performance in generating high-quality and genre-appropriate lyrics.\n",
        "\n",
        "<h4>\n",
        "By following this approach, the outputs of GPT2 and Distill-GPT2 models will be analyzed and compared. Additionally, the Bi-directional LSTM model will serve as a reference point to assess the relative performance of the other models. This comprehensive evaluation will provide insights into the strengths and weaknesses of each model, enabling informed conclusions about their respective capabilities in the given rock genre context.\n",
        "\n",
        "________________________________________________________________________________________________________"
      ],
      "metadata": {
        "id": "mNZ7O523JdeX"
      }
    },
    {
      "cell_type": "code",
      "execution_count": null,
      "metadata": {
        "colab": {
          "base_uri": "https://localhost:8080/"
        },
        "id": "7S3HLiE8Jbvm",
        "outputId": "36ea9071-8ccd-40ff-8471-c8b267ea49e2"
      },
      "outputs": [
        {
          "output_type": "stream",
          "name": "stdout",
          "text": [
            "Mounted at /content/drive\n"
          ]
        }
      ],
      "source": [
        "# Import the necessary libraries\n",
        "import pickle\n",
        "import numpy as np\n",
        "import pandas as pd\n",
        "\n",
        "import seaborn as sns\n",
        "import re\n",
        "import string\n",
        "import tensorflow as tf\n",
        "import keras\n",
        "from wordcloud import WordCloud, STOPWORDS\n",
        "import matplotlib.pyplot as plt\n",
        "\n",
        "from keras.models import Sequential\n",
        "from tensorflow.keras.models import Model\n",
        "\n",
        "from tensorflow.keras.optimizers import Adam\n",
        "from tensorflow.keras.layers import Input, Embedding, SimpleRNN, Dense, LSTM , GRU, Bidirectional\n",
        "\n",
        "from google.colab import drive\n",
        "drive.mount('/content/drive')"
      ]
    },
    {
      "cell_type": "markdown",
      "source": [
        "### DATA PRE-PROCESSING\n"
      ],
      "metadata": {
        "id": "kbQTi-YRMZbh"
      }
    },
    {
      "cell_type": "code",
      "source": [
        "# Getting the pickle file for pre-processing.\n",
        "\n",
        "# load variables from the file on Google Drive\n",
        "with open('/content/drive/MyDrive/UNIV.AI/AI-3 Language Models/Project/Project Landing /Datasets/reduced_genre_dataset/Rock_final.pickle', 'rb') as f:\n",
        "    rock_songs = pickle.load(f)\n",
        "\n",
        "rock_songs.head()"
      ],
      "metadata": {
        "colab": {
          "base_uri": "https://localhost:8080/",
          "height": 206
        },
        "id": "JQwC8EGILy07",
        "outputId": "d51e8309-51a9-453a-d917-2f8b1ffbdecf"
      },
      "execution_count": null,
      "outputs": [
        {
          "output_type": "execute_result",
          "data": {
            "text/plain": [
              "                            title   tag       artist  year    views  \\\n",
              "0     Subterranean Homesick Blues  rock    Bob Dylan  1965   180196   \n",
              "1               Bohemian Rhapsody  rock        Queen  1975  9247817   \n",
              "2            Neighborhood 2 Laïka  rock  Arcade Fire  2005    73848   \n",
              "3                      White Riot  rock    The Clash  1977    41406   \n",
              "4  Leave the Bourbon on the Shelf  rock  The Killers  2007    23937   \n",
              "\n",
              "                                              lyrics  \n",
              "0   Johnny's in the basement, mixin' up the medic...  \n",
              "1   Is this the real life? Is this just fantasy? ...  \n",
              "2   Alexander, our older brother Set out for a gr...  \n",
              "3   1,2,3,4   White riot, I wanna riot White riot...  \n",
              "4   Shaking like the devil when she lets me go Go...  "
            ],
            "text/html": [
              "\n",
              "  <div id=\"df-009a9b72-7722-461c-a128-a4ff759f9dc9\">\n",
              "    <div class=\"colab-df-container\">\n",
              "      <div>\n",
              "<style scoped>\n",
              "    .dataframe tbody tr th:only-of-type {\n",
              "        vertical-align: middle;\n",
              "    }\n",
              "\n",
              "    .dataframe tbody tr th {\n",
              "        vertical-align: top;\n",
              "    }\n",
              "\n",
              "    .dataframe thead th {\n",
              "        text-align: right;\n",
              "    }\n",
              "</style>\n",
              "<table border=\"1\" class=\"dataframe\">\n",
              "  <thead>\n",
              "    <tr style=\"text-align: right;\">\n",
              "      <th></th>\n",
              "      <th>title</th>\n",
              "      <th>tag</th>\n",
              "      <th>artist</th>\n",
              "      <th>year</th>\n",
              "      <th>views</th>\n",
              "      <th>lyrics</th>\n",
              "    </tr>\n",
              "  </thead>\n",
              "  <tbody>\n",
              "    <tr>\n",
              "      <th>0</th>\n",
              "      <td>Subterranean Homesick Blues</td>\n",
              "      <td>rock</td>\n",
              "      <td>Bob Dylan</td>\n",
              "      <td>1965</td>\n",
              "      <td>180196</td>\n",
              "      <td>Johnny's in the basement, mixin' up the medic...</td>\n",
              "    </tr>\n",
              "    <tr>\n",
              "      <th>1</th>\n",
              "      <td>Bohemian Rhapsody</td>\n",
              "      <td>rock</td>\n",
              "      <td>Queen</td>\n",
              "      <td>1975</td>\n",
              "      <td>9247817</td>\n",
              "      <td>Is this the real life? Is this just fantasy? ...</td>\n",
              "    </tr>\n",
              "    <tr>\n",
              "      <th>2</th>\n",
              "      <td>Neighborhood 2 Laïka</td>\n",
              "      <td>rock</td>\n",
              "      <td>Arcade Fire</td>\n",
              "      <td>2005</td>\n",
              "      <td>73848</td>\n",
              "      <td>Alexander, our older brother Set out for a gr...</td>\n",
              "    </tr>\n",
              "    <tr>\n",
              "      <th>3</th>\n",
              "      <td>White Riot</td>\n",
              "      <td>rock</td>\n",
              "      <td>The Clash</td>\n",
              "      <td>1977</td>\n",
              "      <td>41406</td>\n",
              "      <td>1,2,3,4   White riot, I wanna riot White riot...</td>\n",
              "    </tr>\n",
              "    <tr>\n",
              "      <th>4</th>\n",
              "      <td>Leave the Bourbon on the Shelf</td>\n",
              "      <td>rock</td>\n",
              "      <td>The Killers</td>\n",
              "      <td>2007</td>\n",
              "      <td>23937</td>\n",
              "      <td>Shaking like the devil when she lets me go Go...</td>\n",
              "    </tr>\n",
              "  </tbody>\n",
              "</table>\n",
              "</div>\n",
              "      <button class=\"colab-df-convert\" onclick=\"convertToInteractive('df-009a9b72-7722-461c-a128-a4ff759f9dc9')\"\n",
              "              title=\"Convert this dataframe to an interactive table.\"\n",
              "              style=\"display:none;\">\n",
              "        \n",
              "  <svg xmlns=\"http://www.w3.org/2000/svg\" height=\"24px\"viewBox=\"0 0 24 24\"\n",
              "       width=\"24px\">\n",
              "    <path d=\"M0 0h24v24H0V0z\" fill=\"none\"/>\n",
              "    <path d=\"M18.56 5.44l.94 2.06.94-2.06 2.06-.94-2.06-.94-.94-2.06-.94 2.06-2.06.94zm-11 1L8.5 8.5l.94-2.06 2.06-.94-2.06-.94L8.5 2.5l-.94 2.06-2.06.94zm10 10l.94 2.06.94-2.06 2.06-.94-2.06-.94-.94-2.06-.94 2.06-2.06.94z\"/><path d=\"M17.41 7.96l-1.37-1.37c-.4-.4-.92-.59-1.43-.59-.52 0-1.04.2-1.43.59L10.3 9.45l-7.72 7.72c-.78.78-.78 2.05 0 2.83L4 21.41c.39.39.9.59 1.41.59.51 0 1.02-.2 1.41-.59l7.78-7.78 2.81-2.81c.8-.78.8-2.07 0-2.86zM5.41 20L4 18.59l7.72-7.72 1.47 1.35L5.41 20z\"/>\n",
              "  </svg>\n",
              "      </button>\n",
              "      \n",
              "  <style>\n",
              "    .colab-df-container {\n",
              "      display:flex;\n",
              "      flex-wrap:wrap;\n",
              "      gap: 12px;\n",
              "    }\n",
              "\n",
              "    .colab-df-convert {\n",
              "      background-color: #E8F0FE;\n",
              "      border: none;\n",
              "      border-radius: 50%;\n",
              "      cursor: pointer;\n",
              "      display: none;\n",
              "      fill: #1967D2;\n",
              "      height: 32px;\n",
              "      padding: 0 0 0 0;\n",
              "      width: 32px;\n",
              "    }\n",
              "\n",
              "    .colab-df-convert:hover {\n",
              "      background-color: #E2EBFA;\n",
              "      box-shadow: 0px 1px 2px rgba(60, 64, 67, 0.3), 0px 1px 3px 1px rgba(60, 64, 67, 0.15);\n",
              "      fill: #174EA6;\n",
              "    }\n",
              "\n",
              "    [theme=dark] .colab-df-convert {\n",
              "      background-color: #3B4455;\n",
              "      fill: #D2E3FC;\n",
              "    }\n",
              "\n",
              "    [theme=dark] .colab-df-convert:hover {\n",
              "      background-color: #434B5C;\n",
              "      box-shadow: 0px 1px 3px 1px rgba(0, 0, 0, 0.15);\n",
              "      filter: drop-shadow(0px 1px 2px rgba(0, 0, 0, 0.3));\n",
              "      fill: #FFFFFF;\n",
              "    }\n",
              "  </style>\n",
              "\n",
              "      <script>\n",
              "        const buttonEl =\n",
              "          document.querySelector('#df-009a9b72-7722-461c-a128-a4ff759f9dc9 button.colab-df-convert');\n",
              "        buttonEl.style.display =\n",
              "          google.colab.kernel.accessAllowed ? 'block' : 'none';\n",
              "\n",
              "        async function convertToInteractive(key) {\n",
              "          const element = document.querySelector('#df-009a9b72-7722-461c-a128-a4ff759f9dc9');\n",
              "          const dataTable =\n",
              "            await google.colab.kernel.invokeFunction('convertToInteractive',\n",
              "                                                     [key], {});\n",
              "          if (!dataTable) return;\n",
              "\n",
              "          const docLinkHtml = 'Like what you see? Visit the ' +\n",
              "            '<a target=\"_blank\" href=https://colab.research.google.com/notebooks/data_table.ipynb>data table notebook</a>'\n",
              "            + ' to learn more about interactive tables.';\n",
              "          element.innerHTML = '';\n",
              "          dataTable['output_type'] = 'display_data';\n",
              "          await google.colab.output.renderOutput(dataTable, element);\n",
              "          const docLink = document.createElement('div');\n",
              "          docLink.innerHTML = docLinkHtml;\n",
              "          element.appendChild(docLink);\n",
              "        }\n",
              "      </script>\n",
              "    </div>\n",
              "  </div>\n",
              "  "
            ]
          },
          "metadata": {},
          "execution_count": 2
        }
      ]
    },
    {
      "cell_type": "code",
      "source": [
        "## FUNCTION TO PRE_PROCESS THE DATA :\n",
        "\n",
        "def pre_processing_lyrics(dataset):\n",
        "  '''\n",
        "  INPUT : Dataset having different features like : genre , artist , title , view , lyrics etc\n",
        "  Here, we are interested only in lyrics.\n",
        "  Output: Processed list of Songs/ lyrics\n",
        "  '''\n",
        "  # extracting lyrics from dataset\n",
        "  songs  = list(dataset['lyrics'])\n",
        "\n",
        "  #Drop the songs with lyrics that are too short\n",
        "  lyrics = []\n",
        "  for song in songs:\n",
        "    if len(song.split(' ')) > 150:\n",
        "      lyrics.append(song)\n",
        "\n",
        "  # For training We will use first 30000 lyrics only. (due to time and system constraints)\n",
        "  if len(lyrics) > 30000:\n",
        "    lyrics = lyrics[:30000]\n",
        "\n",
        "  # REMOVE ANY WORDS CONTAINING NUMERICAL VALUE and SPECIAL CHARACTERS.\n",
        "  final_lyrics = []\n",
        "  pattern = re.compile(r'\\b[^\\W\\d_]+\\b')  # Regex pattern to match words without numerical characters\n",
        "\n",
        "  for lyric in lyrics:\n",
        "        splits = lyric.split(',')\n",
        "        cleaned_splits = []\n",
        "\n",
        "        for split in splits:\n",
        "            cleaned_split = re.sub(r'[^\\w\\s\\']', '', split)\n",
        "            filtered_split = ' '.join(word for word in cleaned_split.split() if pattern.match(word))\n",
        "            cleaned_splits.append(filtered_split)\n",
        "\n",
        "        final_lyrics.append(','.join(cleaned_splits))\n",
        "\n",
        "\n",
        "  # Applygin 'next line' token at every capital Letter in lyrics and 'end of sequence' token.\n",
        "  final_lyrics  = [' '.join(['\\n' + word if (word[0]).isupper() else word for word in songs.replace('  ', '').split(' ')] + [' </s>']) for songs in final_lyrics]\n",
        "  print (f\"Number of Total Processed Lyrics : {len(final_lyrics)}\")\n",
        "\n",
        "  return final_lyrics"
      ],
      "metadata": {
        "id": "QRrE456_MpOi"
      },
      "execution_count": null,
      "outputs": []
    },
    {
      "cell_type": "code",
      "source": [
        "# Pre-process the lyrics\n",
        "processed_lyrics = pre_processing_lyrics(rock_songs)"
      ],
      "metadata": {
        "colab": {
          "base_uri": "https://localhost:8080/"
        },
        "id": "25gQi27oMxAV",
        "outputId": "6e7ce2b1-073e-435b-fbaa-439f9d5eb552"
      },
      "execution_count": null,
      "outputs": [
        {
          "output_type": "stream",
          "name": "stdout",
          "text": [
            "Number of Total Processed Lyrics : 30000\n"
          ]
        }
      ]
    },
    {
      "cell_type": "code",
      "source": [
        "processed_lyrics[0]"
      ],
      "metadata": {
        "colab": {
          "base_uri": "https://localhost:8080/",
          "height": 108
        },
        "id": "HOAhKC9NNJ6c",
        "outputId": "6e2684be-b0a4-4ea7-c737-a5f170964371"
      },
      "execution_count": null,
      "outputs": [
        {
          "output_type": "execute_result",
          "data": {
            "text/plain": [
              "\"\\nJohnny's in the basement,mixin' up the medicine \\nI'm on the pavement,thinkin' about the government \\nThe man in a trench coat,badge out,laid off \\nSays he's got a bad cough,wants to get it paid off \\nLook out kid,it's somethin' you did \\nGod knows when,but you're doin' it again \\nYou better duck down the alleyway,looking for a new friend \\nThe man in the coonskin cap in a pig pen \\nWants dollar bills you only got \\nMaggie comes fleet foot,face full of black soot \\nTalkin' that the heat put plants in the bed,but \\nPhone's tapped anyway \\nMaggie says the many say \\nThey must bust in early \\nMay \\nOrders from the \\nDA \\nLook out kid,don't matter what you did \\nWalk on your tip toes,dont tie no bows \\nBetter stay away from those that carry around a fire hose \\nKeep a clean nose,watch the plainclothes \\nYou don't need a weather man to know which way the wind blows \\nOh,get sick,get well,hang around a ink well \\nHang bail,hard to tell if anything is gonna sell \\nTry hard,get barred,get back,ride rail \\nGet jailed,jump bail,join the \\nArmy if you fail \\nLook out kid,you're gonna get hit \\nBy losers,cheaters,sixtime users \\nHanging the theaters \\nGirl by the whirlpool's looking for a new fool \\nDon't follow leaders,awatch the parking meters \\nOh,get born,keep warm \\nShort pants,romance \\nLearn to dance,get dressed \\nGet blessed,try to be a success \\nPlease her,please him,buy gifts \\nDon't steal,don't lift years of schoolin' and they put you on the day shift \\nLook out kid,they keep it all hid \\nBetter jump down a manhole,light yourself a candle \\nDon't wear sandals,try to avoid the scandals \\nDon't want to be a bum,you better chew gum \\nThe pump don't work the vandals took the handles  </s>\""
            ],
            "application/vnd.google.colaboratory.intrinsic+json": {
              "type": "string"
            }
          },
          "metadata": {},
          "execution_count": 5
        }
      ]
    },
    {
      "cell_type": "markdown",
      "source": [
        "###  Model : Bi-directional LSTM"
      ],
      "metadata": {
        "id": "rzbZQC2KLqO5"
      }
    },
    {
      "cell_type": "code",
      "source": [
        "# Preparing training and validation sets:\n",
        "\n",
        "# combining all lyrics together into one sentence:\n",
        "rock_songs = ' '.join(processed_lyrics)\n",
        "\n",
        "\n",
        "# Function to create lyrics of 128 words:\n",
        "\n",
        "def create_sentences(lyrics, w = 128) :\n",
        "\n",
        "  sentences = []\n",
        "\n",
        "  lyrics = lyrics.split( ' ')\n",
        "  length  = len(lyrics)\n",
        "\n",
        "  n = length // w   # this gives the total number sentences form with 'w' words in it.\n",
        "\n",
        "  a = 0\n",
        "  b = w\n",
        "  for i in range (n):\n",
        "    sentences.append(lyrics[a:b])\n",
        "    a+= w\n",
        "    b+= w\n",
        "\n",
        "  return sentences\n",
        "\n",
        "# Calling the function to create the sentences of equal number of words:\n",
        "\n",
        "lyrics_128 = create_sentences(rock_songs)\n",
        "\n",
        "# We do this because of system and time constraints\n",
        "if len(lyrics_128) > 20000:\n",
        "  lyrics_128 = lyrics_128[:20000]"
      ],
      "metadata": {
        "id": "9rk3C6wwNgKa"
      },
      "execution_count": null,
      "outputs": []
    },
    {
      "cell_type": "code",
      "source": [
        "# TOKENIZATION\n",
        "\n",
        "# Creating the instance of tokenizer\n",
        "n_vocab = 15000\n",
        "\n",
        "tokenizer = tf.keras.preprocessing.text.Tokenizer(\n",
        "\n",
        "    num_words= n_vocab,\n",
        "    filters='',\n",
        "    lower=True,\n",
        "    split=' ',\n",
        "    oov_token= \"<UNK>\",\n",
        ")\n",
        "\n",
        "tokenizer.fit_on_texts(rock_songs.split(' '))\n",
        "\n",
        "\n",
        "# TOKENIZING THE SENTENCES :\n",
        "tokenized_lyrics = tokenizer.texts_to_sequences(lyrics_128)\n",
        "\n",
        "\n",
        "# Preparing the predictors and responce variables:\n",
        "'''\n",
        "suppose we have a sentence : [1,2,3,4,5,6,7,8, ........127,128] then\n",
        "our x_train will be : [1,2,3,4,5,6,7,8........,126,127] and\n",
        "out y_train will be : [2,3,4,5,6,7,8.........., 127, 128]\n",
        "'''\n",
        "X = [tokens[:-1] for tokens in tokenized_lyrics]\n",
        "Y = [tokens[1: ] for tokens in tokenized_lyrics]\n",
        "\n",
        "# print (X[0])\n",
        "# print (Y[0])\n",
        "\n",
        "## Lets pad the datasets , to make all sentences of equal length.\n",
        "max_len = 128\n",
        "\n",
        "X_padded = tf.keras.utils.pad_sequences(X,maxlen=max_len-1,padding='post')\n",
        "Y_padded = tf.keras.utils.pad_sequences(Y,maxlen=max_len-1,padding='post')\n"
      ],
      "metadata": {
        "id": "JY40eEPtOLzV"
      },
      "execution_count": null,
      "outputs": []
    },
    {
      "cell_type": "code",
      "source": [
        "# Common Parameters we will be using to make models\n",
        "embedding_dim = 1000\n",
        "hidden_dim_1 = 500\n",
        "hidden_dim_2 = 250\n",
        "hidden_dim_3 = 50\n",
        "\n",
        "\n",
        "###############################################################################################\n",
        "\n",
        "# Initializing the bi-directional LSTM model\n",
        "inputs = Input(shape=(None,))\n",
        "\n",
        "# Adding an Embedding layer\n",
        "x = Embedding(input_dim=n_vocab, output_dim=embedding_dim,mask_zero = True)(inputs)\n",
        "\n",
        "# Adding bi-directional LSTM layers based on the input parameters\n",
        "x = Bidirectional(LSTM(units=hidden_dim_1, activation='tanh', return_sequences=True))(x)  # First LSTM layer\n",
        "x = Bidirectional(LSTM(units=hidden_dim_2, activation='tanh',return_sequences=True))(x)  # second LSTM layer\n",
        "\n",
        "# Adding a Dense layer with the number of classes and softmax activation\n",
        "outputs = Dense(units=n_vocab, activation='softmax')(x)\n",
        "\n",
        "# Finalizing the model\n",
        "model_biLSTM = Model(inputs=inputs, outputs=outputs)\n",
        "\n",
        "# Compiling the model\n",
        "model_biLSTM.compile(loss='sparse_categorical_crossentropy', optimizer='adam', metrics=['accuracy'])\n",
        "\n",
        "model_biLSTM.summary()"
      ],
      "metadata": {
        "colab": {
          "base_uri": "https://localhost:8080/"
        },
        "id": "GoHa_QHHParz",
        "outputId": "85b74310-292b-4177-dfa1-96d22a82229a"
      },
      "execution_count": null,
      "outputs": [
        {
          "output_type": "stream",
          "name": "stdout",
          "text": [
            "Model: \"model_1\"\n",
            "_________________________________________________________________\n",
            " Layer (type)                Output Shape              Param #   \n",
            "=================================================================\n",
            " input_2 (InputLayer)        [(None, None)]            0         \n",
            "                                                                 \n",
            " embedding_1 (Embedding)     (None, None, 1000)        15000000  \n",
            "                                                                 \n",
            " bidirectional_2 (Bidirectio  (None, None, 1000)       6004000   \n",
            " nal)                                                            \n",
            "                                                                 \n",
            " bidirectional_3 (Bidirectio  (None, None, 500)        2502000   \n",
            " nal)                                                            \n",
            "                                                                 \n",
            " dense_1 (Dense)             (None, None, 15000)       7515000   \n",
            "                                                                 \n",
            "=================================================================\n",
            "Total params: 31,021,000\n",
            "Trainable params: 31,021,000\n",
            "Non-trainable params: 0\n",
            "_________________________________________________________________\n"
          ]
        }
      ]
    },
    {
      "cell_type": "code",
      "source": [
        "# Training the Model:\n",
        "history_biLSTM = model_biLSTM.fit(X_padded,Y_padded, validation_split = 0.20, epochs = 6, verbose = 1 , batch_size = 16)"
      ],
      "metadata": {
        "colab": {
          "base_uri": "https://localhost:8080/"
        },
        "id": "QaZ8zDRJPxqi",
        "outputId": "4303e5cc-6c15-4bd3-b81a-3ca151b227dc"
      },
      "execution_count": null,
      "outputs": [
        {
          "output_type": "stream",
          "name": "stdout",
          "text": [
            "Epoch 1/6\n",
            "320/320 [==============================] - 120s 335ms/step - loss: 6.6893 - accuracy: 0.0668 - val_loss: 6.6429 - val_accuracy: 0.0642\n",
            "Epoch 2/6\n",
            "320/320 [==============================] - 92s 288ms/step - loss: 6.6016 - accuracy: 0.0669 - val_loss: 6.6508 - val_accuracy: 0.0642\n",
            "Epoch 3/6\n",
            "320/320 [==============================] - 91s 285ms/step - loss: 6.6024 - accuracy: 0.0668 - val_loss: 6.6445 - val_accuracy: 0.0642\n",
            "Epoch 4/6\n",
            "320/320 [==============================] - 90s 280ms/step - loss: 6.5865 - accuracy: 0.0669 - val_loss: 6.6085 - val_accuracy: 0.0642\n",
            "Epoch 5/6\n",
            "320/320 [==============================] - 89s 279ms/step - loss: 6.0215 - accuracy: 0.1070 - val_loss: 3.9691 - val_accuracy: 0.3964\n",
            "Epoch 6/6\n",
            "320/320 [==============================] - 91s 284ms/step - loss: 2.5543 - accuracy: 0.6492 - val_loss: 1.8038 - val_accuracy: 0.7723\n"
          ]
        }
      ]
    },
    {
      "cell_type": "code",
      "source": [
        "## SAVING ITS CORRESPONDING TOKENIZER IN GOOGLE DRIVE:\n",
        "with open('/content/drive/MyDrive/UNIV.AI/Project AI 3 NLP/Project Landing /Saved Models/Comparing Models/bi_LSTM_model.pkl', 'wb') as f:\n",
        "    pickle.dump(tokenizer, f)\n",
        "\n",
        "# Saving the Model Weights:  saving model as .h5 file\n",
        "model_biLSTM.save_weights('/content/drive/MyDrive/UNIV.AI/Project AI 3 NLP/Project Landing /Saved Models/Comparing Models/bi_LSTM_model_weights.h5')\n"
      ],
      "metadata": {
        "id": "1rsKcAQeP_Cs"
      },
      "execution_count": null,
      "outputs": []
    },
    {
      "cell_type": "code",
      "source": [
        "# PLOTTING THE TRAINING DATA : ACCURACY AND LOSS\n",
        "import matplotlib.pyplot as plt\n",
        "\n",
        "fig, ax = plt.subplots(1, 2, figsize=(15, 6))\n",
        "fig.subplots_adjust(wspace=0.3)\n",
        "\n",
        "ax[0].set_title('Model Accuracy per Epoch', fontsize=16)\n",
        "ax[0].set_xlabel('Epoch', fontsize=14)\n",
        "ax[0].set_ylabel('Accuracy', fontsize=14)\n",
        "\n",
        "ax[0].plot(history_biLSTM.history['accuracy'], label='Accuracy')\n",
        "ax[0].plot(history_biLSTM.history['val_accuracy'], label='Val_Accuracy')\n",
        "ax[0].legend(fontsize=12)\n",
        "\n",
        "ax[1].set_title('Model Loss per Epoch', fontsize=16)\n",
        "ax[1].set_xlabel('Epoch', fontsize=14)\n",
        "ax[1].set_ylabel('Loss', fontsize=14)\n",
        "\n",
        "ax[1].plot(history_biLSTM.history['loss'], label='Train_Loss')\n",
        "ax[1].plot(history_biLSTM.history['val_loss'], label='Val_Loss')\n",
        "ax[1].legend(fontsize=12)\n",
        "\n",
        "plt.show()"
      ],
      "metadata": {
        "colab": {
          "base_uri": "https://localhost:8080/",
          "height": 571
        },
        "id": "wJ-EMIqAWgyI",
        "outputId": "33748426-780e-476d-f92b-f5b77b6fe9be"
      },
      "execution_count": null,
      "outputs": [
        {
          "output_type": "display_data",
          "data": {
            "text/plain": [
              "<Figure size 1500x600 with 2 Axes>"
            ],
            "image/png": "[encoded data removed]"
          },
          "metadata": {}
        }
      ]
    },
    {
      "cell_type": "markdown",
      "source": [
        "### Data Processing For Transformer Models"
      ],
      "metadata": {
        "id": "acgLGHh_XaCr"
      }
    },
    {
      "cell_type": "code",
      "source": [
        "! pip install transformers\n",
        "! pip install datasets\n",
        "\n",
        "from transformers import TFAutoModelForCausalLM, AutoTokenizer, AdamWeightDecay, pipeline, create_optimizer"
      ],
      "metadata": {
        "id": "wpI2wm9AWwxZ"
      },
      "execution_count": null,
      "outputs": []
    },
    {
      "cell_type": "code",
      "source": [
        "# Split the lyrics into train and validation sets\n",
        "\n",
        "val_split = 0.2  # 20% of the data will be used for validation\n",
        "max_seq_length = 128  # Maximum sequence length to use for training\n",
        "\n",
        "split_index = int(len(processed_lyrics) * (1 - val_split))\n",
        "train_lyrics = processed_lyrics[:split_index]\n",
        "val_lyrics = processed_lyrics[split_index:]"
      ],
      "metadata": {
        "id": "HrDCEaNOXlOT"
      },
      "execution_count": null,
      "outputs": []
    },
    {
      "cell_type": "code",
      "source": [
        "len(train_lyrics) , len(val_lyrics)"
      ],
      "metadata": {
        "colab": {
          "base_uri": "https://localhost:8080/"
        },
        "id": "MA2iuRBNX0tE",
        "outputId": "c9760a10-cdff-4d40-f226-e31e3adcc9fb"
      },
      "execution_count": null,
      "outputs": [
        {
          "output_type": "execute_result",
          "data": {
            "text/plain": [
              "(24000, 6000)"
            ]
          },
          "metadata": {},
          "execution_count": 9
        }
      ]
    },
    {
      "cell_type": "markdown",
      "source": [
        "###  Model : GPT2"
      ],
      "metadata": {
        "id": "jJjlYMprWzCM"
      }
    },
    {
      "cell_type": "code",
      "source": [
        "# Load the pre-trained GPT-2 tokenizer\n",
        "tokenizer = AutoTokenizer.from_pretrained(\"gpt2\")\n",
        "\n",
        "# Load the pre-trained GPT-2 small model\n",
        "model = TFAutoModelForCausalLM.from_pretrained(\"gpt2\", max_length=512)"
      ],
      "metadata": {
        "colab": {
          "base_uri": "https://localhost:8080/"
        },
        "id": "iVBL7IP6XQpL",
        "outputId": "1ee1c2eb-2364-4abd-8605-2b404b6d8d37"
      },
      "execution_count": null,
      "outputs": [
        {
          "output_type": "stream",
          "name": "stderr",
          "text": [
            "All model checkpoint layers were used when initializing TFGPT2LMHeadModel.\n",
            "\n",
            "All the layers of TFGPT2LMHeadModel were initialized from the model checkpoint at gpt2.\n",
            "If your task is similar to the task the model of the checkpoint was trained on, you can already use TFGPT2LMHeadModel for predictions without further training.\n"
          ]
        }
      ]
    },
    {
      "cell_type": "code",
      "source": [
        "# Tokenize the train and validation lyrics\n",
        "encoded_train_lyrics = np.concatenate([tokenizer.encode(l) for l in train_lyrics if tokenizer.encode(l)])\n",
        "encoded_val_lyrics = np.concatenate([tokenizer.encode(l) for l in val_lyrics if tokenizer.encode(l)])"
      ],
      "metadata": {
        "colab": {
          "base_uri": "https://localhost:8080/"
        },
        "id": "cRhPMSO-YEMe",
        "outputId": "8c8fc1d8-24b3-42fe-fef0-8fee37de1e97"
      },
      "execution_count": null,
      "outputs": [
        {
          "output_type": "stream",
          "name": "stderr",
          "text": [
            "Token indices sequence length is longer than the specified maximum sequence length for this model (1208 > 1024). Running this sequence through the model will result in indexing errors\n"
          ]
        }
      ]
    },
    {
      "cell_type": "code",
      "source": [
        "# Function to make chunks of equal number of words: default = 128 words/tokens\n",
        "\n",
        "def create_chunks(tokens , w = 128):\n",
        "  chunks = [] # list to contains chunks of 128 words.\n",
        "\n",
        "  length = len(tokens)\n",
        "  n = length // w       # number of chunks available\n",
        "  a = 0\n",
        "  b = w\n",
        "\n",
        "  for i in range(n):\n",
        "    chunks.append(tokens[a:b])\n",
        "    a+=w\n",
        "    b+=w\n",
        "\n",
        "  return chunks\n",
        "\n",
        "# Creating chunks using the above defined function\n",
        "encoded_train_lyrics_ = create_chunks(encoded_train_lyrics)[:20000]\n",
        "\n",
        "encoded_val_lyrics_ = create_chunks(encoded_val_lyrics)[:4000]\n",
        "\n",
        "\n",
        "# Define the input processing function\n",
        "def preprocess(inputs):\n",
        "\n",
        "    input_ids = inputs[:-1]\n",
        "    target_ids = inputs[1:]\n",
        "\n",
        "    return {'input_ids': input_ids, 'attention_mask': tf.ones_like(input_ids)}, target_ids\n",
        "\n",
        "# Preprocess the datasets\n",
        "train_dataset = tf.data.Dataset.from_tensor_slices(encoded_train_lyrics_)\n",
        "val_dataset = tf.data.Dataset.from_tensor_slices(encoded_val_lyrics_)\n",
        "train_dataset = train_dataset.map(preprocess).shuffle(10000).batch(16)\n",
        "val_dataset = val_dataset.map(preprocess).batch(16)"
      ],
      "metadata": {
        "id": "p8R9fqWyYJ7a"
      },
      "execution_count": null,
      "outputs": []
    },
    {
      "cell_type": "code",
      "source": [
        "# Set up the optimizer and loss function\n",
        "optimizer = tf.keras.optimizers.Adam(learning_rate=5e-5)\n",
        "loss_fn = tf.keras.losses.SparseCategoricalCrossentropy(from_logits=True)\n",
        "\n",
        "# Compile the model\n",
        "model.compile(optimizer=optimizer, loss=loss_fn, metrics=['accuracy'])\n",
        "\n",
        "# Set up the training parameters\n",
        "num_epochs = 5\n",
        "\n",
        "model.summary()"
      ],
      "metadata": {
        "colab": {
          "base_uri": "https://localhost:8080/"
        },
        "id": "08a8LaFPYksx",
        "outputId": "938f7f29-1524-455b-bc72-3d608aafe20b"
      },
      "execution_count": null,
      "outputs": [
        {
          "output_type": "stream",
          "name": "stdout",
          "text": [
            "Model: \"tfgpt2lm_head_model_1\"\n",
            "_________________________________________________________________\n",
            " Layer (type)                Output Shape              Param #   \n",
            "=================================================================\n",
            " transformer (TFGPT2MainLaye  multiple                 124439808 \n",
            " r)                                                              \n",
            "                                                                 \n",
            "=================================================================\n",
            "Total params: 124,439,808\n",
            "Trainable params: 124,439,808\n",
            "Non-trainable params: 0\n",
            "_________________________________________________________________\n"
          ]
        }
      ]
    },
    {
      "cell_type": "code",
      "source": [
        "# Begin training\n",
        "history_GPT2 = model.fit(train_dataset, epochs=num_epochs, validation_data=val_dataset)"
      ],
      "metadata": {
        "colab": {
          "base_uri": "https://localhost:8080/"
        },
        "id": "5r7jtXTHY4gK",
        "outputId": "249f819b-b9b1-47b0-e59f-b746ee43bc59"
      },
      "execution_count": null,
      "outputs": [
        {
          "output_type": "stream",
          "name": "stdout",
          "text": [
            "Epoch 1/5\n",
            "1250/1250 [==============================] - 907s 692ms/step - loss: 2.6840 - accuracy: 0.4993 - val_loss: 2.5740 - val_accuracy: 0.5093\n",
            "Epoch 2/5\n",
            "1250/1250 [==============================] - 865s 691ms/step - loss: 2.5383 - accuracy: 0.5161 - val_loss: 2.5619 - val_accuracy: 0.5112\n",
            "Epoch 3/5\n",
            "1250/1250 [==============================] - 865s 692ms/step - loss: 2.4501 - accuracy: 0.5263 - val_loss: 2.5655 - val_accuracy: 0.5114\n",
            "Epoch 4/5\n",
            "1250/1250 [==============================] - 865s 692ms/step - loss: 2.3735 - accuracy: 0.5352 - val_loss: 2.5784 - val_accuracy: 0.5102\n",
            "Epoch 5/5\n",
            "1250/1250 [==============================] - 864s 691ms/step - loss: 2.3014 - accuracy: 0.5441 - val_loss: 2.5877 - val_accuracy: 0.5105\n"
          ]
        }
      ]
    },
    {
      "cell_type": "code",
      "source": [
        "## SAVING ITS CORRESPONDING TOKENIZER IN GOOGLE DRIVE:\n",
        "with open('/content/drive/MyDrive/UNIV.AI/Project AI 3 NLP/Project Landing /Saved Models/Comparing Models/gpt2_model.pkl', 'wb') as f:\n",
        "    pickle.dump(tokenizer, f)\n",
        "\n",
        "# Saving the Model Weights:  saving model as .h5 file\n",
        "model.save_weights('/content/drive/MyDrive/UNIV.AI/Project AI 3 NLP/Project Landing /Saved Models/Comparing Models/gpt2_model_weights.h5')\n"
      ],
      "metadata": {
        "id": "N_12bF4MZ5MZ"
      },
      "execution_count": null,
      "outputs": []
    },
    {
      "cell_type": "code",
      "source": [
        "# PLOTTING THE TRAINING DATA : ACCURACY AND LOSS\n",
        "import matplotlib.pyplot as plt\n",
        "\n",
        "fig, ax = plt.subplots(1, 2, figsize=(15, 6))\n",
        "fig.subplots_adjust(wspace=0.3)\n",
        "\n",
        "ax[0].set_title('Model Accuracy per Epoch', fontsize=16)\n",
        "ax[0].set_xlabel('Epoch', fontsize=14)\n",
        "ax[0].set_ylabel('Accuracy', fontsize=14)\n",
        "\n",
        "ax[0].plot(history_GPT2.history['accuracy'], label='Accuracy')\n",
        "ax[0].plot(history_GPT2.history['val_accuracy'], label='Val_Accuracy')\n",
        "ax[0].legend(fontsize=12)\n",
        "\n",
        "ax[1].set_title('Model Loss per Epoch', fontsize=16)\n",
        "ax[1].set_xlabel('Epoch', fontsize=14)\n",
        "ax[1].set_ylabel('Loss', fontsize=14)\n",
        "\n",
        "ax[1].plot(history_GPT2.history['loss'], label='Train_Loss')\n",
        "ax[1].plot(history_GPT2.history['val_loss'], label='Val_Loss')\n",
        "ax[1].legend(fontsize=12)\n",
        "\n",
        "plt.show()"
      ],
      "metadata": {
        "colab": {
          "base_uri": "https://localhost:8080/",
          "height": 384
        },
        "id": "34Lxb8vsq5ik",
        "outputId": "05c255ff-e122-4817-c908-760429ac1726"
      },
      "execution_count": null,
      "outputs": [
        {
          "output_type": "display_data",
          "data": {
            "text/plain": [
              "<Figure size 1500x600 with 2 Axes>"
            ],
            "image/png": "[encoded data removed]"
          },
          "metadata": {}
        }
      ]
    },
    {
      "cell_type": "markdown",
      "source": [
        "###  Model : Distill_GPT2"
      ],
      "metadata": {
        "id": "YvT141tKsGJn"
      }
    },
    {
      "cell_type": "code",
      "source": [
        "# Load the pre-trained GPT-2 tokenizer\n",
        "tokenizer = AutoTokenizer.from_pretrained(\"distilgpt2\")\n",
        "\n",
        "# Load the pre-trained GPT-2 small model\n",
        "model = TFAutoModelForCausalLM.from_pretrained(\"distilgpt2\", max_length=512)"
      ],
      "metadata": {
        "colab": {
          "base_uri": "https://localhost:8080/",
          "height": 281,
          "referenced_widgets": [
            "00ed4ae0535e415f8612c9ab1a79ad00",
            "515bf92614dc404fb69074d4627ce0eb",
            "597515862d8f42a69d7cd0247d911148",
            "51d9c625d11445b1b0c3ed06c7bed27d",
            "75a7e0609ffd4e099690b24eeaac4a38",
            "b696232a757e4d388c95d6602a97a0e2",
            "8043989b21e3470f9f54d57591020b1e",
            "ecbefbb34f064d8bb77605b1196e575d",
            "b333c870c5fc4f6db3314b12f2c36ce3",
            "cb0630c9fea644f39d45867190118adb",
            "30f0fbf237604c8ba1c641788d6a1673",
            "b71cb6a519b543fa9abac4cf4c5841b2",
            "66a8f5788e934c3e904a58a549b65101",
            "ba37504207894081a27a0b70f0fbb099",
            "67a8a3d4a4b04df984785b45747f4889",
            "6d8849fb5fd24d8da36a4b956bd59ecc",
            "7b0c0354f2c348e8a757a074dc6c52e6",
            "2177bda6f69c4693be88082a2c274561",
            "4676ee9df57d46f59bf6ecec71c6d31c",
            "3a39f02586354b429c42c2050aaf60a3",
            "d6b19c835d83431aaab049c689b540be",
            "1b8fb9a448944b38aba2e28842fba4bc",
            "75775e88529b40ed8a380ebf3df7f9e2",
            "b4b524a8a5e349d598c93cb675729b03",
            "f8584f6959ff4ae89d96c41338e5b7cd",
            "41c38175254f45938b86f58bbd36914d",
            "d80810b9cdca40748d7d12ad6c5d80d6",
            "6cf348f3927f468694d445ae08ac25ba",
            "9b81bec5253d4e34b40661a9418244d6",
            "55a620a0ccda43d0b4344984d8b686de",
            "fec5749379214824b77dd1bd3dea0dee",
            "bc0def8416c64864a1ca0852a1e20709",
            "52c592b8d1ef4ddba3a14dd9d6cbde01",
            "1c240a840bc7401da0d9fc5507bc3286",
            "24a7495cc4d849d48139605884593f6d",
            "865ba766f7c649d693f0e53567091f6c",
            "562d8779bee04c2bbe9c350c69992731",
            "117863a427dd4545886a81ec9815f798",
            "cc8a3466cd464b7ab8f13abd301d1475",
            "04a3a0a2864740f2b919e29a7f89cea7",
            "6bbcbe42ee56417b94d05b7710aa5f8d",
            "06e8da58108b44c89f5562cd9dbc61b7",
            "68769ca3fb02440ebacbd73fba0d0b91",
            "6c4e800d31f94046834fbb5d4db8799d",
            "751a89483b7840a9be371b7014d9072e",
            "ced9dfa0516c4c38acb619f5169ed8c6",
            "d40fb274d42c45879aee450c7fe5b45f",
            "5172050e4fee43fea090e01c5f92ec54",
            "9d9eae3e563e45ccb738ac0f37d55695",
            "9b19a3e35ac34e21a79ab8c5831a4f0c",
            "5783762d38fd46a5885dea677483a9ad",
            "0c1ab1e3341c45ec8cd574d25a7a7cb3",
            "feeea9ee04074442869c82da9cad3fa3",
            "e534c7ef7443479c8fdf9c6f5307bc0f",
            "b4dd0bd7bb764497a78a517b9c9dc408",
            "7064f7ebb874411a8fe30009bf73f1d7",
            "ef797c8e19f7453d90659d60442fc87d",
            "e3214b90172f46b493f446218484be63",
            "82f47d3cd68c4be5b6e8783684eedf0b",
            "3a20a1b81b4a4c4eb9afa17390e153d7",
            "19aab6eb7c664064aaafcaf482d9f26d",
            "9e97da0d2ece47d59a2535a3983df0a6",
            "e969850a131645ef98865efc2fb35be9",
            "28e86d430916473e8e92062e5d5c8dbb",
            "e2e68284eb364ff68125b7934634ecad",
            "0dd8ec34b3f8491483a9eb6a14edfbef"
          ]
        },
        "outputId": "fb9c52ef-12d1-440b-8bfa-fb8c576a7ee5",
        "id": "xEKVXg4ssUGx"
      },
      "execution_count": null,
      "outputs": [
        {
          "output_type": "display_data",
          "data": {
            "text/plain": [
              "Downloading (…)lve/main/config.json:   0%|          | 0.00/762 [00:00<?, ?B/s]"
            ],
            "application/vnd.jupyter.widget-view+json": {
              "version_major": 2,
              "version_minor": 0,
              "model_id": "00ed4ae0535e415f8612c9ab1a79ad00"
            }
          },
          "metadata": {}
        },
        {
          "output_type": "display_data",
          "data": {
            "text/plain": [
              "Downloading (…)olve/main/vocab.json:   0%|          | 0.00/1.04M [00:00<?, ?B/s]"
            ],
            "application/vnd.jupyter.widget-view+json": {
              "version_major": 2,
              "version_minor": 0,
              "model_id": "b71cb6a519b543fa9abac4cf4c5841b2"
            }
          },
          "metadata": {}
        },
        {
          "output_type": "display_data",
          "data": {
            "text/plain": [
              "Downloading (…)olve/main/merges.txt:   0%|          | 0.00/456k [00:00<?, ?B/s]"
            ],
            "application/vnd.jupyter.widget-view+json": {
              "version_major": 2,
              "version_minor": 0,
              "model_id": "75775e88529b40ed8a380ebf3df7f9e2"
            }
          },
          "metadata": {}
        },
        {
          "output_type": "display_data",
          "data": {
            "text/plain": [
              "Downloading (…)/main/tokenizer.json:   0%|          | 0.00/1.36M [00:00<?, ?B/s]"
            ],
            "application/vnd.jupyter.widget-view+json": {
              "version_major": 2,
              "version_minor": 0,
              "model_id": "1c240a840bc7401da0d9fc5507bc3286"
            }
          },
          "metadata": {}
        },
        {
          "output_type": "display_data",
          "data": {
            "text/plain": [
              "Downloading tf_model.h5:   0%|          | 0.00/328M [00:00<?, ?B/s]"
            ],
            "application/vnd.jupyter.widget-view+json": {
              "version_major": 2,
              "version_minor": 0,
              "model_id": "751a89483b7840a9be371b7014d9072e"
            }
          },
          "metadata": {}
        },
        {
          "output_type": "stream",
          "name": "stderr",
          "text": [
            "All model checkpoint layers were used when initializing TFGPT2LMHeadModel.\n",
            "\n",
            "All the layers of TFGPT2LMHeadModel were initialized from the model checkpoint at distilgpt2.\n",
            "If your task is similar to the task the model of the checkpoint was trained on, you can already use TFGPT2LMHeadModel for predictions without further training.\n"
          ]
        },
        {
          "output_type": "display_data",
          "data": {
            "text/plain": [
              "Downloading (…)neration_config.json:   0%|          | 0.00/124 [00:00<?, ?B/s]"
            ],
            "application/vnd.jupyter.widget-view+json": {
              "version_major": 2,
              "version_minor": 0,
              "model_id": "7064f7ebb874411a8fe30009bf73f1d7"
            }
          },
          "metadata": {}
        }
      ]
    },
    {
      "cell_type": "code",
      "source": [
        "# Tokenize the train and validation lyrics\n",
        "encoded_train_lyrics = np.concatenate([tokenizer.encode(l) for l in train_lyrics if tokenizer.encode(l)])\n",
        "encoded_val_lyrics = np.concatenate([tokenizer.encode(l) for l in val_lyrics if tokenizer.encode(l)])"
      ],
      "metadata": {
        "colab": {
          "base_uri": "https://localhost:8080/"
        },
        "outputId": "880edad7-74fc-49f0-882c-9d61d2a8e7f5",
        "id": "2xQPzL-dsUGz"
      },
      "execution_count": null,
      "outputs": [
        {
          "output_type": "stream",
          "name": "stderr",
          "text": [
            "Token indices sequence length is longer than the specified maximum sequence length for this model (1208 > 1024). Running this sequence through the model will result in indexing errors\n"
          ]
        }
      ]
    },
    {
      "cell_type": "code",
      "source": [
        "# Function to make chunks of equal number of words: default = 128 words/tokens\n",
        "\n",
        "def create_chunks(tokens , w = 128):\n",
        "  chunks = [] # list to contains chunks of 128 words.\n",
        "\n",
        "  length = len(tokens)\n",
        "  n = length // w       # number of chunks available\n",
        "  a = 0\n",
        "  b = w\n",
        "\n",
        "  for i in range(n):\n",
        "    chunks.append(tokens[a:b])\n",
        "    a+=w\n",
        "    b+=w\n",
        "\n",
        "  return chunks\n",
        "\n",
        "# Creating chunks using the above defined function\n",
        "encoded_train_lyrics_ = create_chunks(encoded_train_lyrics)[:20000]\n",
        "\n",
        "encoded_val_lyrics_ = create_chunks(encoded_val_lyrics)[:4000]\n",
        "\n",
        "\n",
        "# Define the input processing function\n",
        "def preprocess(inputs):\n",
        "\n",
        "    input_ids = inputs[:-1]\n",
        "    target_ids = inputs[1:]\n",
        "\n",
        "    return {'input_ids': input_ids, 'attention_mask': tf.ones_like(input_ids)}, target_ids\n",
        "\n",
        "# Preprocess the datasets\n",
        "train_dataset = tf.data.Dataset.from_tensor_slices(encoded_train_lyrics_)\n",
        "val_dataset = tf.data.Dataset.from_tensor_slices(encoded_val_lyrics_)\n",
        "train_dataset = train_dataset.map(preprocess).shuffle(10000).batch(16)\n",
        "val_dataset = val_dataset.map(preprocess).batch(16)"
      ],
      "metadata": {
        "id": "ESKmrVXwsUG0"
      },
      "execution_count": null,
      "outputs": []
    },
    {
      "cell_type": "code",
      "source": [
        "# Set up the optimizer and loss function\n",
        "optimizer = tf.keras.optimizers.Adam(learning_rate=5e-5)\n",
        "loss_fn = tf.keras.losses.SparseCategoricalCrossentropy(from_logits=True)\n",
        "\n",
        "# Compile the model\n",
        "model.compile(optimizer=optimizer, loss=loss_fn, metrics=['accuracy'])\n",
        "\n",
        "# Set up the training parameters\n",
        "num_epochs = 5\n",
        "\n",
        "model.summary()"
      ],
      "metadata": {
        "colab": {
          "base_uri": "https://localhost:8080/"
        },
        "outputId": "639e8b3b-e642-4e95-c648-ba9edadd8605",
        "id": "dBskIjATsUG1"
      },
      "execution_count": null,
      "outputs": [
        {
          "output_type": "stream",
          "name": "stdout",
          "text": [
            "Model: \"tfgpt2lm_head_model_2\"\n",
            "_________________________________________________________________\n",
            " Layer (type)                Output Shape              Param #   \n",
            "=================================================================\n",
            " transformer (TFGPT2MainLaye  multiple                 81912576  \n",
            " r)                                                              \n",
            "                                                                 \n",
            "=================================================================\n",
            "Total params: 81,912,576\n",
            "Trainable params: 81,912,576\n",
            "Non-trainable params: 0\n",
            "_________________________________________________________________\n"
          ]
        }
      ]
    },
    {
      "cell_type": "code",
      "source": [
        "# Begin training\n",
        "history_dist_GPT2 = model.fit(train_dataset, epochs=num_epochs, validation_data=val_dataset)"
      ],
      "metadata": {
        "colab": {
          "base_uri": "https://localhost:8080/"
        },
        "outputId": "0e2803cd-0708-4e79-de0c-38e4356619c4",
        "id": "ilqSInn1sUG2"
      },
      "execution_count": null,
      "outputs": [
        {
          "output_type": "stream",
          "name": "stdout",
          "text": [
            "Epoch 1/5\n",
            "1250/1250 [==============================] - 623s 482ms/step - loss: 2.8256 - accuracy: 0.4800 - val_loss: 2.6980 - val_accuracy: 0.4930\n",
            "Epoch 2/5\n",
            "1250/1250 [==============================] - 603s 482ms/step - loss: 2.6841 - accuracy: 0.4958 - val_loss: 2.6748 - val_accuracy: 0.4960\n",
            "Epoch 3/5\n",
            "1250/1250 [==============================] - 565s 452ms/step - loss: 2.6096 - accuracy: 0.5040 - val_loss: 2.6637 - val_accuracy: 0.4975\n",
            "Epoch 4/5\n",
            "1250/1250 [==============================] - 603s 482ms/step - loss: 2.5493 - accuracy: 0.5106 - val_loss: 2.6614 - val_accuracy: 0.4985\n",
            "Epoch 5/5\n",
            "1250/1250 [==============================] - 603s 483ms/step - loss: 2.4949 - accuracy: 0.5167 - val_loss: 2.6701 - val_accuracy: 0.4986\n"
          ]
        }
      ]
    },
    {
      "cell_type": "code",
      "source": [
        "## SAVING ITS CORRESPONDING TOKENIZER IN GOOGLE DRIVE:\n",
        "with open('/content/drive/MyDrive/UNIV.AI/Project AI 3 NLP/Project Landing /Saved Models/Comparing Models/distillgpt2_model.pkl', 'wb') as f:\n",
        "    pickle.dump(tokenizer, f)\n",
        "\n",
        "# Saving the Model Weights:  saving model as .h5 file\n",
        "model.save_weights('/content/drive/MyDrive/UNIV.AI/Project AI 3 NLP/Project Landing /Saved Models/Comparing Models/distillgpt2_model_weights.h5')\n"
      ],
      "metadata": {
        "id": "84flAXF5sUG3"
      },
      "execution_count": null,
      "outputs": []
    },
    {
      "cell_type": "code",
      "source": [
        "# PLOTTING THE TRAINING DATA : ACCURACY AND LOSS\n",
        "import matplotlib.pyplot as plt\n",
        "\n",
        "fig, ax = plt.subplots(1, 2, figsize=(15, 6))\n",
        "fig.subplots_adjust(wspace=0.3)\n",
        "\n",
        "ax[0].set_title('Model Accuracy per Epoch', fontsize=16)\n",
        "ax[0].set_xlabel('Epoch', fontsize=14)\n",
        "ax[0].set_ylabel('Accuracy', fontsize=14)\n",
        "\n",
        "ax[0].plot(history_dist_GPT2.history['accuracy'], label='Accuracy')\n",
        "ax[0].plot(history_dist_GPT2.history['val_accuracy'], label='Val_Accuracy')\n",
        "ax[0].legend(fontsize=12)\n",
        "\n",
        "ax[1].set_title('Model Loss per Epoch', fontsize=16)\n",
        "ax[1].set_xlabel('Epoch', fontsize=14)\n",
        "ax[1].set_ylabel('Loss', fontsize=14)\n",
        "\n",
        "ax[1].plot(history_dist_GPT2.history['loss'], label='Train_Loss')\n",
        "ax[1].plot(history_dist_GPT2.history['val_loss'], label='Val_Loss')\n",
        "ax[1].legend(fontsize=12)\n",
        "\n",
        "plt.show()"
      ],
      "metadata": {
        "colab": {
          "base_uri": "https://localhost:8080/",
          "height": 571
        },
        "outputId": "f7b34d0e-d8eb-4687-b483-e10cabb95bc8",
        "id": "flxidxk4sUG5"
      },
      "execution_count": null,
      "outputs": [
        {
          "output_type": "display_data",
          "data": {
            "text/plain": [
              "<Figure size 1500x600 with 2 Axes>"
            ],
            "image/png": "[encoded data removed]"
          },
          "metadata": {}
        }
      ]
    },
    {
      "cell_type": "markdown",
      "source": [
        "__________________________________________________"
      ],
      "metadata": {
        "id": "V66yY26N4vgY"
      }
    },
    {
      "cell_type": "markdown",
      "source": [
        "### MODEL EVALUATION"
      ],
      "metadata": {
        "id": "kj2biQ5K4xno"
      }
    },
    {
      "cell_type": "code",
      "source": [
        "# Preparing the Test Set\n",
        "test_set = [\" \".join(lyric.split(' ')[:28]) for lyric in val_lyrics[:20]]             # We will feed first 28 words to the model. This acts as a prompt for the trained model\n",
        "val_set = [\" \".join(lyric.split(' ')[:128]) for lyric in val_lyrics[:20]]             # Generate 128 from the models and compare those with this val_set."
      ],
      "metadata": {
        "id": "XrQccSLg4lvy"
      },
      "execution_count": null,
      "outputs": []
    },
    {
      "cell_type": "code",
      "source": [
        "## Getting Prediction from trained Model:\n",
        "\n",
        "'''\n",
        "Input : input prompt, model and its tokenizer\n",
        "Output : Predicted Lyrics\n",
        "'''\n",
        "\n",
        "def get_predictions (prompts,model, tokenizer,\n",
        "                     max_length = 170,\n",
        "                     num_beams = 2,\n",
        "                     temperature = 0.4,\n",
        "                     no_repeat_ngram_size=3,\n",
        "                     num_return_sequences=1 ):\n",
        "  generations = []\n",
        "  for prompt in prompts:\n",
        "\n",
        "    prompt = prompt.lstrip().rstrip()\n",
        "    # encoding the input text\n",
        "    input_ids = tokenizer([prompt])\n",
        "\n",
        "    # Getting output:\n",
        "    beam_output = model.generate(   input_ids['input_ids'],\n",
        "                                    max_length = max_length,\n",
        "                                    num_beams = num_beams,\n",
        "                                    temperature = temperature,\n",
        "                                    no_repeat_ngram_size=no_repeat_ngram_size,\n",
        "                                    num_return_sequences=num_return_sequences\n",
        "                                  )\n",
        "    # decoding the output tokens\n",
        "    output_sequences = [tokenizer.decode(seq, clean_up_tokenization_spaces=True) for seq in beam_output]\n",
        "\n",
        "    # saving our predicted lyrics in a list\n",
        "    generations.append(output_sequences[0])\n",
        "\n",
        "  # Return the generated lyrics\n",
        "  return generations"
      ],
      "metadata": {
        "id": "U02dqfcg6EzE"
      },
      "execution_count": null,
      "outputs": []
    },
    {
      "cell_type": "markdown",
      "source": [
        "> Lyrics Generations from GPT2 model"
      ],
      "metadata": {
        "id": "jBb7FG7s_OxZ"
      }
    },
    {
      "cell_type": "code",
      "source": [
        "# First we will get the genertions from GPT2 model:\n",
        "\n",
        "# Load the pre-trained GPT-2 tokenizer\n",
        "tokenizer = AutoTokenizer.from_pretrained(\"gpt2\")\n",
        "\n",
        "# Load the pre-trained GPT-2 small model\n",
        "model = TFAutoModelForCausalLM.from_pretrained(\"gpt2\", max_length=512)\n",
        "# Load the model weights\n",
        "model.load_weights('/content/drive/MyDrive/UNIV.AI/AI-3 Language Models/Project/Project Landing /Saved Models/Comparing Models/gpt2_model_weights.h5')\n",
        "\n",
        "# Getting the Predictions\n",
        "gpt_generations = get_predictions(test_set , model , tokenizer )"
      ],
      "metadata": {
        "id": "dhgRGlN967hC"
      },
      "execution_count": null,
      "outputs": []
    },
    {
      "cell_type": "markdown",
      "source": [
        "> Lyrics Generations from Distill-GPT2 model"
      ],
      "metadata": {
        "id": "1nh9VVlTIJDS"
      }
    },
    {
      "cell_type": "code",
      "source": [
        "# First we will get the genertions from GPT2 model:\n",
        "\n",
        "# Load the pre-trained GPT-2 tokenizer\n",
        "tokenizer = AutoTokenizer.from_pretrained(\"distilgpt2\")\n",
        "\n",
        "# Load the pre-trained GPT-2 small model\n",
        "model = TFAutoModelForCausalLM.from_pretrained(\"distilgpt2\", max_length=512)\n",
        "# Load the model weights\n",
        "model.load_weights('/content/drive/MyDrive/UNIV.AI/AI-3 Language Models/Project/Project Landing /Saved Models/Comparing Models/distillgpt2_model_weights.h5')\n",
        "\n",
        "# Getting the Predictions\n",
        "distilgpt_generations = get_predictions(test_set , model , tokenizer )"
      ],
      "metadata": {
        "id": "RFHN8suiIJDb"
      },
      "execution_count": null,
      "outputs": []
    },
    {
      "cell_type": "markdown",
      "source": [
        "> Creating a dataframe to summary everything in one file :"
      ],
      "metadata": {
        "id": "G9_WJ-UQNUfF"
      }
    },
    {
      "cell_type": "code",
      "source": [
        "df = pd.DataFrame()\n",
        "\n",
        "df['prompt'] = test_set\n",
        "df['validation_set'] = val_set\n",
        "df['gpt2_generations'] = gpt_generations\n",
        "df['distillgpt_generation'] = distilgpt_generations\n",
        "\n",
        "display(df.head())\n",
        "\n",
        "print(f'''\n",
        "One Example:\n",
        "\n",
        "\n",
        "PROMPT :\\n{df['prompt'][0]}\n",
        "\n",
        "\n",
        "Val_lyrics : \\n{df['validation_set'][0]}\n",
        "\n",
        "\n",
        "GPT_predicition : \\n{df['gpt2_generations'][0]}\n",
        "\n",
        "\n",
        "Distill_GPT_predicition : \\n{df['distillgpt_generation'][0]}\n",
        "''')"
      ],
      "metadata": {
        "colab": {
          "base_uri": "https://localhost:8080/",
          "height": 1000
        },
        "id": "MrSwWPFyNarI",
        "outputId": "b7c0c18d-90d6-4fa6-ef21-51827b740907"
      },
      "execution_count": null,
      "outputs": [
        {
          "output_type": "display_data",
          "data": {
            "text/plain": [
              "                                              prompt  \\\n",
              "0  \\nThe boy stood in the burning slum \\nBetter t...   \n",
              "1  \\nFour for a pound your face flannels,three fo...   \n",
              "2  \\nJacques \\nLamure is a volunteer fireman \\nHe...   \n",
              "3  \\nI feel your knife as it goes right in \\nCut ...   \n",
              "4  \\nTulip \\nBaroo,Tulip \\nBaroo \\nThe magnetic r...   \n",
              "\n",
              "                                      validation_set  \\\n",
              "0  \\nThe boy stood in the burning slum \\nBetter t...   \n",
              "1  \\nFour for a pound your face flannels,three fo...   \n",
              "2  \\nJacques \\nLamure is a volunteer fireman \\nHe...   \n",
              "3  \\nI feel your knife as it goes right in \\nCut ...   \n",
              "4  \\nTulip \\nBaroo,Tulip \\nBaroo \\nThe magnetic r...   \n",
              "\n",
              "                                    gpt2_generations  \\\n",
              "0  The boy stood in the burning slum \\nBetter tim...   \n",
              "1  Four for a pound your face flannels,three for ...   \n",
              "2  Jacques \\nLamure is a volunteer fireman \\nHe l...   \n",
              "3  I feel your knife as it goes right in \\nCut to...   \n",
              "4  Tulip \\nBaroo,Tulip \\nBaroo \\nThe magnetic rol...   \n",
              "\n",
              "                               distillgpt_generation  \n",
              "0  The boy stood in the burning slum \\nBetter tim...  \n",
              "1  Four for a pound your face flannels,three for ...  \n",
              "2  Jacques \\nLamure is a volunteer fireman \\nHe l...  \n",
              "3  I feel your knife as it goes right in \\nCut to...  \n",
              "4  Tulip \\nBaroo,Tulip \\nBaroo \\nThe magnetic rol...  "
            ],
            "text/html": [
              "\n",
              "  <div id=\"df-0a28d560-5af8-4a17-9b93-8c0ba979b3e6\">\n",
              "    <div class=\"colab-df-container\">\n",
              "      <div>\n",
              "<style scoped>\n",
              "    .dataframe tbody tr th:only-of-type {\n",
              "        vertical-align: middle;\n",
              "    }\n",
              "\n",
              "    .dataframe tbody tr th {\n",
              "        vertical-align: top;\n",
              "    }\n",
              "\n",
              "    .dataframe thead th {\n",
              "        text-align: right;\n",
              "    }\n",
              "</style>\n",
              "<table border=\"1\" class=\"dataframe\">\n",
              "  <thead>\n",
              "    <tr style=\"text-align: right;\">\n",
              "      <th></th>\n",
              "      <th>prompt</th>\n",
              "      <th>validation_set</th>\n",
              "      <th>gpt2_generations</th>\n",
              "      <th>distillgpt_generation</th>\n",
              "    </tr>\n",
              "  </thead>\n",
              "  <tbody>\n",
              "    <tr>\n",
              "      <th>0</th>\n",
              "      <td>\\nThe boy stood in the burning slum \\nBetter t...</td>\n",
              "      <td>\\nThe boy stood in the burning slum \\nBetter t...</td>\n",
              "      <td>The boy stood in the burning slum \\nBetter tim...</td>\n",
              "      <td>The boy stood in the burning slum \\nBetter tim...</td>\n",
              "    </tr>\n",
              "    <tr>\n",
              "      <th>1</th>\n",
              "      <td>\\nFour for a pound your face flannels,three fo...</td>\n",
              "      <td>\\nFour for a pound your face flannels,three fo...</td>\n",
              "      <td>Four for a pound your face flannels,three for ...</td>\n",
              "      <td>Four for a pound your face flannels,three for ...</td>\n",
              "    </tr>\n",
              "    <tr>\n",
              "      <th>2</th>\n",
              "      <td>\\nJacques \\nLamure is a volunteer fireman \\nHe...</td>\n",
              "      <td>\\nJacques \\nLamure is a volunteer fireman \\nHe...</td>\n",
              "      <td>Jacques \\nLamure is a volunteer fireman \\nHe l...</td>\n",
              "      <td>Jacques \\nLamure is a volunteer fireman \\nHe l...</td>\n",
              "    </tr>\n",
              "    <tr>\n",
              "      <th>3</th>\n",
              "      <td>\\nI feel your knife as it goes right in \\nCut ...</td>\n",
              "      <td>\\nI feel your knife as it goes right in \\nCut ...</td>\n",
              "      <td>I feel your knife as it goes right in \\nCut to...</td>\n",
              "      <td>I feel your knife as it goes right in \\nCut to...</td>\n",
              "    </tr>\n",
              "    <tr>\n",
              "      <th>4</th>\n",
              "      <td>\\nTulip \\nBaroo,Tulip \\nBaroo \\nThe magnetic r...</td>\n",
              "      <td>\\nTulip \\nBaroo,Tulip \\nBaroo \\nThe magnetic r...</td>\n",
              "      <td>Tulip \\nBaroo,Tulip \\nBaroo \\nThe magnetic rol...</td>\n",
              "      <td>Tulip \\nBaroo,Tulip \\nBaroo \\nThe magnetic rol...</td>\n",
              "    </tr>\n",
              "  </tbody>\n",
              "</table>\n",
              "</div>\n",
              "      <button class=\"colab-df-convert\" onclick=\"convertToInteractive('df-0a28d560-5af8-4a17-9b93-8c0ba979b3e6')\"\n",
              "              title=\"Convert this dataframe to an interactive table.\"\n",
              "              style=\"display:none;\">\n",
              "        \n",
              "  <svg xmlns=\"http://www.w3.org/2000/svg\" height=\"24px\"viewBox=\"0 0 24 24\"\n",
              "       width=\"24px\">\n",
              "    <path d=\"M0 0h24v24H0V0z\" fill=\"none\"/>\n",
              "    <path d=\"M18.56 5.44l.94 2.06.94-2.06 2.06-.94-2.06-.94-.94-2.06-.94 2.06-2.06.94zm-11 1L8.5 8.5l.94-2.06 2.06-.94-2.06-.94L8.5 2.5l-.94 2.06-2.06.94zm10 10l.94 2.06.94-2.06 2.06-.94-2.06-.94-.94-2.06-.94 2.06-2.06.94z\"/><path d=\"M17.41 7.96l-1.37-1.37c-.4-.4-.92-.59-1.43-.59-.52 0-1.04.2-1.43.59L10.3 9.45l-7.72 7.72c-.78.78-.78 2.05 0 2.83L4 21.41c.39.39.9.59 1.41.59.51 0 1.02-.2 1.41-.59l7.78-7.78 2.81-2.81c.8-.78.8-2.07 0-2.86zM5.41 20L4 18.59l7.72-7.72 1.47 1.35L5.41 20z\"/>\n",
              "  </svg>\n",
              "      </button>\n",
              "      \n",
              "  <style>\n",
              "    .colab-df-container {\n",
              "      display:flex;\n",
              "      flex-wrap:wrap;\n",
              "      gap: 12px;\n",
              "    }\n",
              "\n",
              "    .colab-df-convert {\n",
              "      background-color: #E8F0FE;\n",
              "      border: none;\n",
              "      border-radius: 50%;\n",
              "      cursor: pointer;\n",
              "      display: none;\n",
              "      fill: #1967D2;\n",
              "      height: 32px;\n",
              "      padding: 0 0 0 0;\n",
              "      width: 32px;\n",
              "    }\n",
              "\n",
              "    .colab-df-convert:hover {\n",
              "      background-color: #E2EBFA;\n",
              "      box-shadow: 0px 1px 2px rgba(60, 64, 67, 0.3), 0px 1px 3px 1px rgba(60, 64, 67, 0.15);\n",
              "      fill: #174EA6;\n",
              "    }\n",
              "\n",
              "    [theme=dark] .colab-df-convert {\n",
              "      background-color: #3B4455;\n",
              "      fill: #D2E3FC;\n",
              "    }\n",
              "\n",
              "    [theme=dark] .colab-df-convert:hover {\n",
              "      background-color: #434B5C;\n",
              "      box-shadow: 0px 1px 3px 1px rgba(0, 0, 0, 0.15);\n",
              "      filter: drop-shadow(0px 1px 2px rgba(0, 0, 0, 0.3));\n",
              "      fill: #FFFFFF;\n",
              "    }\n",
              "  </style>\n",
              "\n",
              "      <script>\n",
              "        const buttonEl =\n",
              "          document.querySelector('#df-0a28d560-5af8-4a17-9b93-8c0ba979b3e6 button.colab-df-convert');\n",
              "        buttonEl.style.display =\n",
              "          google.colab.kernel.accessAllowed ? 'block' : 'none';\n",
              "\n",
              "        async function convertToInteractive(key) {\n",
              "          const element = document.querySelector('#df-0a28d560-5af8-4a17-9b93-8c0ba979b3e6');\n",
              "          const dataTable =\n",
              "            await google.colab.kernel.invokeFunction('convertToInteractive',\n",
              "                                                     [key], {});\n",
              "          if (!dataTable) return;\n",
              "\n",
              "          const docLinkHtml = 'Like what you see? Visit the ' +\n",
              "            '<a target=\"_blank\" href=https://colab.research.google.com/notebooks/data_table.ipynb>data table notebook</a>'\n",
              "            + ' to learn more about interactive tables.';\n",
              "          element.innerHTML = '';\n",
              "          dataTable['output_type'] = 'display_data';\n",
              "          await google.colab.output.renderOutput(dataTable, element);\n",
              "          const docLink = document.createElement('div');\n",
              "          docLink.innerHTML = docLinkHtml;\n",
              "          element.appendChild(docLink);\n",
              "        }\n",
              "      </script>\n",
              "    </div>\n",
              "  </div>\n",
              "  "
            ]
          },
          "metadata": {}
        },
        {
          "output_type": "stream",
          "name": "stdout",
          "text": [
            "\n",
            "One Example: \n",
            "\n",
            "\n",
            "PROMPT :\n",
            "\n",
            "The boy stood in the burning slum \n",
            "Better times had to come \n",
            "Fate lay in the hands that clap \n",
            "The muscles that move \n",
            "The heart to rap \n",
            "He\n",
            "\n",
            "\n",
            "Val_lyrics : \n",
            "\n",
            "The boy stood in the burning slum \n",
            "Better times had to come \n",
            "Fate lay in the hands that clap \n",
            "The muscles that move \n",
            "The heart to rap \n",
            "He went up on money street \n",
            "Wavin' and poppin' to the beat \n",
            "Off his wits and on his feet \n",
            "He worked a coin from the cold concrete \n",
            "Movers and shakers come on \n",
            "You got what it takes to make it \n",
            "Movers and shakers come on \n",
            "Even if you have to fake it \n",
            "Where the highways meets the lights \n",
            "With a red bandanna,rapid wipes \n",
            "He shines glass,he cleans chrome \n",
            "He'll accept what he gets thrown \n",
            "This man earns its understood \n",
            "Times are bad and he's making good \n",
            "Down on him but he's got it beat \n",
            "He's working coin from the cold concrete\n",
            "\n",
            "\n",
            "GPT_predicition : \n",
            "The boy stood in the burning slum \n",
            "Better times had to come \n",
            "Fate lay in the hands that clap \n",
            "The muscles that move \n",
            "The heart to rap \n",
            "He was a boy,he was a man \n",
            "A boy,a boy \n",
            "And \n",
            "I'm a boy  </s>\n",
            "I was born in \n",
            "May,I was raised in the land of the free \n",
            "In the land that you call home \n",
            "You call home,you call home to me \n",
            "We are the children of \n",
            "God,we are the ones who are saved \n",
            "From the hands of the wicked \n",
            "Who have taken our lives \n",
            "To save us from the clutches of the damned \n",
            "But we are the chosen ones \n",
            "For we are not alone \n",
            "Our\n",
            "\n",
            "\n",
            "Distill_GPT_predicition : \n",
            "The boy stood in the burning slum \n",
            "Better times had to come \n",
            "Fate lay in the hands that clap \n",
            "The muscles that move \n",
            "The heart to rap \n",
            "He's got a heart to crack \n",
            "And he's got the heart to break \n",
            "But \n",
            "I don't want to be the one to blame \n",
            "For all the things that  </s>\n",
            "I've been waiting for you \n",
            "You're the only one \n",
            "That's gonna save me \n",
            "It's the only thing \n",
            "Someday you'll see \n",
            "When you're gone \n",
            "Your eyes are open wide \n",
            "They're open wide,they're open \n",
            "There's nothing left to say \n",
            "So \n",
            "Im going to tell you what you want \n",
            "To hear \n",
            "What\n",
            "\n"
          ]
        }
      ]
    },
    {
      "cell_type": "code",
      "source": [
        "# Saving this .CSV file for future use:\n",
        "df.to_csv('/content/drive/MyDrive/UNIV.AI/AI-3 Language Models/Project/Project Landing /Saved Models/Comparing Models/Lyrics_Generations.csv', index=False)"
      ],
      "metadata": {
        "id": "TUFTvx0CPUr6"
      },
      "execution_count": null,
      "outputs": []
    },
    {
      "cell_type": "markdown",
      "source": [
        "#### EVALUATION"
      ],
      "metadata": {
        "id": "p1gz8wpwPD43"
      }
    },
    {
      "cell_type": "markdown",
      "source": [
        "#### 1. ROUGE (Recall-Oriented Understudy for Gisting Evaluation)"
      ],
      "metadata": {
        "id": "nB0NE-nlRHtm"
      }
    },
    {
      "cell_type": "code",
      "source": [
        "!pip install rouge"
      ],
      "metadata": {
        "colab": {
          "base_uri": "https://localhost:8080/"
        },
        "id": "PN9hjiwzK16x",
        "outputId": "c56ca510-1e34-4705-9de7-47e48473cac9"
      },
      "execution_count": null,
      "outputs": [
        {
          "output_type": "stream",
          "name": "stdout",
          "text": [
            "Looking in indexes: https://pypi.org/simple, https://us-python.pkg.dev/colab-wheels/public/simple/\n",
            "Collecting rouge\n",
            "  Downloading rouge-1.0.1-py3-none-any.whl (13 kB)\n",
            "Requirement already satisfied: six in /usr/local/lib/python3.10/dist-packages (from rouge) (1.16.0)\n",
            "Installing collected packages: rouge\n",
            "Successfully installed rouge-1.0.1\n"
          ]
        }
      ]
    },
    {
      "cell_type": "code",
      "source": [
        "from rouge import Rouge\n",
        "\n",
        "def calculate_rouge(actual_lyrics, generated_lyrics):\n",
        "\n",
        "  scores = [] # This holds the rouge['f1'] scores for each lyrics\n",
        "\n",
        "  for actual , generated in zip(actual_lyrics , generated_lyrics):\n",
        "    rouge = Rouge()\n",
        "    scores.append(rouge.get_scores(generated, actual, avg=True)['rouge-1']['f'])\n",
        "\n",
        "\n",
        "  return sum(scores)/20  # we return the average score of the whole generatioon\n"
      ],
      "metadata": {
        "id": "CMt9rta0E-Sr"
      },
      "execution_count": null,
      "outputs": []
    },
    {
      "cell_type": "markdown",
      "source": [
        "> Getting Rouge Scores for Lyrics Generated By GPT2 and DistillGPT2 Model:\n"
      ],
      "metadata": {
        "id": "7EBwDh_BNGfd"
      }
    },
    {
      "cell_type": "code",
      "source": [
        "gpt2_rouge_score = calculate_rouge(df['validation_set'], df['gpt2_generations'])\n",
        "distil_gpt2_rouge_score = calculate_rouge(df['validation_set'], df['distillgpt_generation'])\n",
        "\n",
        "print (f'''\n",
        "AVERAGE ROUGE SCORE FOR:\n",
        "  GPT2        : {gpt2_rouge_score:.4f}\n",
        "  Distil_GPT2 : {distil_gpt2_rouge_score:.4f}\n",
        "''')"
      ],
      "metadata": {
        "colab": {
          "base_uri": "https://localhost:8080/"
        },
        "id": "szS6luSaK75U",
        "outputId": "7cc126f9-7426-435d-ebf5-be12ad0ac767"
      },
      "execution_count": null,
      "outputs": [
        {
          "output_type": "stream",
          "name": "stdout",
          "text": [
            "\n",
            "AVERAGE ROUGE SCORE FOR: \n",
            "  GPT2        : 0.3978\n",
            "  Distil_GPT2 : 0.4004\n",
            "\n"
          ]
        }
      ]
    },
    {
      "cell_type": "markdown",
      "source": [
        "INFERENCE ⏬\n",
        "\n",
        "No significant difference between rouge scores of these models."
      ],
      "metadata": {
        "id": "zw5Blq9qbxtt"
      }
    },
    {
      "cell_type": "markdown",
      "source": [
        "> HUMAN EVALUATION"
      ],
      "metadata": {
        "id": "LE6cMAzjTqus"
      }
    },
    {
      "cell_type": "code",
      "source": [
        "# We ourselves will try to evaluate the Generated Lyrics based on Cohesiveness and Rhymness\n",
        "\n",
        "for gpt2, distilgpt2 in zip(df['gpt2_generations'], df['distillgpt_generation']):\n",
        "  display(f'GPT2: {gpt2}')\n",
        "  print('\\n')\n",
        "  display(f'distilGPT2 : {distilgpt2}')\n",
        "  print('\\n\\n...............................................................................................................................................................................')"
      ],
      "metadata": {
        "colab": {
          "base_uri": "https://localhost:8080/",
          "height": 1000
        },
        "id": "KYG9B0OVR_VJ",
        "outputId": "7607b303-1aed-487e-e754-b2ce30e5f13e"
      },
      "execution_count": null,
      "outputs": [
        {
          "output_type": "display_data",
          "data": {
            "text/plain": [
              "\"GPT2: The boy stood in the burning slum \\nBetter times had to come \\nFate lay in the hands that clap \\nThe muscles that move \\nThe heart to rap \\nHe was a boy,he was a man \\nA boy,a boy \\nAnd \\nI'm a boy  </s>\\nI was born in \\nMay,I was raised in the land of the free \\nIn the land that you call home \\nYou call home,you call home to me \\nWe are the children of \\nGod,we are the ones who are saved \\nFrom the hands of the wicked \\nWho have taken our lives \\nTo save us from the clutches of the damned \\nBut we are the chosen ones \\nFor we are not alone \\nOur\""
            ],
            "application/vnd.google.colaboratory.intrinsic+json": {
              "type": "string"
            }
          },
          "metadata": {}
        },
        {
          "output_type": "stream",
          "name": "stdout",
          "text": [
            "\n",
            "\n"
          ]
        },
        {
          "output_type": "display_data",
          "data": {
            "text/plain": [
              "\"distilGPT2 : The boy stood in the burning slum \\nBetter times had to come \\nFate lay in the hands that clap \\nThe muscles that move \\nThe heart to rap \\nHe's got a heart to crack \\nAnd he's got the heart to break \\nBut \\nI don't want to be the one to blame \\nFor all the things that  </s>\\nI've been waiting for you \\nYou're the only one \\nThat's gonna save me \\nIt's the only thing \\nSomeday you'll see \\nWhen you're gone \\nYour eyes are open wide \\nThey're open wide,they're open \\nThere's nothing left to say \\nSo \\nIm going to tell you what you want \\nTo hear \\nWhat\""
            ],
            "application/vnd.google.colaboratory.intrinsic+json": {
              "type": "string"
            }
          },
          "metadata": {}
        },
        {
          "output_type": "stream",
          "name": "stdout",
          "text": [
            "\n",
            "\n",
            "...............................................................................................................................................................................\n"
          ]
        },
        {
          "output_type": "display_data",
          "data": {
            "text/plain": [
              "\"GPT2: Four for a pound your face flannels,three for a pound your tea towels \\nFour for a pound your face flannels,three for a pound your tea towels \\nI hear you say \\nYou can't get enough of me \\nBut \\nIm not the only one \\nAnd \\nIll be the last one  </s>\\nI was born in \\nMay \\nIn the summer of \\nJune \\nWith my mother's name \\nOn my father's side \\nMy father's name was \\nBobby \\nMcGreevy \\nHe was a big man \\nA big man with a big mouth \\nBig man with big hands \\nYeah,he was a real big guy \\nOh,he had a big \\nG \\nDaddy \\n\""
            ],
            "application/vnd.google.colaboratory.intrinsic+json": {
              "type": "string"
            }
          },
          "metadata": {}
        },
        {
          "output_type": "stream",
          "name": "stdout",
          "text": [
            "\n",
            "\n"
          ]
        },
        {
          "output_type": "display_data",
          "data": {
            "text/plain": [
              "'distilGPT2 : Four for a pound your face flannels,three for a pound your tea towels \\nFour for a pound your face flannels,three for a pound your tea towels \\nI hear the sound of your voice,I hear your voice \\nBut \\nIm not sure if youre right or wrong \\nAnd \\nIll be waiting for you \\nFor you  </s>\\nIve been waiting for a miracle \\nTo come true \\nTheres a miracle in my life \\nA miracle in the world \\nIn my life,in my heart \\nMy life,my life,I dont know \\nWhat \\nGod is \\nHe said \\nIf youre born in the morning \\nThen youll be born \\nYoull be raised in the evening \\nWhen youre'"
            ],
            "application/vnd.google.colaboratory.intrinsic+json": {
              "type": "string"
            }
          },
          "metadata": {}
        },
        {
          "output_type": "stream",
          "name": "stdout",
          "text": [
            "\n",
            "\n",
            "...............................................................................................................................................................................\n"
          ]
        },
        {
          "output_type": "display_data",
          "data": {
            "text/plain": [
              "\"GPT2: Jacques \\nLamure is a volunteer fireman \\nHe longs to give his life \\nSaving a nice old man and his wife \\nWhen their house is filled with flames \\nEarning a living \\nFrom the money he makes \\nAnd the money that he saves \\nThe money that \\nI earn \\nIs a very good thing \\nIt's a very nice thing  </s>\\nI've been waiting for you \\nFor a long time \\nYou've been knocking at my door \\nWaiting for me to come and take you home \\nBut \\nIm not coming home,I'm coming home to you now \\nNow \\nIll be waiting for the sun to rise \\nOh \\nLord \\nWell,Ill be looking for you,\""
            ],
            "application/vnd.google.colaboratory.intrinsic+json": {
              "type": "string"
            }
          },
          "metadata": {}
        },
        {
          "output_type": "stream",
          "name": "stdout",
          "text": [
            "\n",
            "\n"
          ]
        },
        {
          "output_type": "display_data",
          "data": {
            "text/plain": [
              "\"distilGPT2 : Jacques \\nLamure is a volunteer fireman \\nHe longs to give his life \\nSaving a nice old man and his wife \\nWhen their house is filled with flames \\nEarning a little bit of money \\nTo pay the rent,to pay the bill \\nAnd to pay the bills \\nFor the money,for the money  </s>\\nI was born in the \\nNew \\nYork \\nCity \\nI'm a \\nJazz \\nDJ,I'm an \\nAmin \\nRita \\nShe's a ṗl \\nMexican girl \\nWho's got a iced tea in her hand \\nOh,she's a girl who's got some \\nFrench \\nIrish \\nTambourine\""
            ],
            "application/vnd.google.colaboratory.intrinsic+json": {
              "type": "string"
            }
          },
          "metadata": {}
        },
        {
          "output_type": "stream",
          "name": "stdout",
          "text": [
            "\n",
            "\n",
            "...............................................................................................................................................................................\n"
          ]
        },
        {
          "output_type": "display_data",
          "data": {
            "text/plain": [
              "\"GPT2: I feel your knife as it goes right in \\nCut to my core but \\nI'm not bleeding \\nAll that you say tryin' to make me small \\nWell the knife's in my hand \\nAnd \\nIm not bleeding,Im not dying \\nYou say you want me to be your friend \\nBut \\nIll never give you my love \\nNo,Ill never ever give you that \\nYour knife is my knife \\nMy knife is your knife  </s>\\nI've been waiting for you \\nFor so long \\nIt's been a long,long time \\nTo see you through \\nNow you've come to take me away \\nFrom all of my fears \\nSo long,it's been so long,I've waited for you to come \""
            ],
            "application/vnd.google.colaboratory.intrinsic+json": {
              "type": "string"
            }
          },
          "metadata": {}
        },
        {
          "output_type": "stream",
          "name": "stdout",
          "text": [
            "\n",
            "\n"
          ]
        },
        {
          "output_type": "display_data",
          "data": {
            "text/plain": [
              "\"distilGPT2 : I feel your knife as it goes right in \\nCut to my core but \\nI'm not bleeding \\nAll that you say tryin' to make me small \\nWell the only thing that you can do is say \\nYou're not the only one \\nAnd you're the one that you're gonna have to lose \\nSo \\nIll tell you what \\nIm gonna do  </s>\\nIve been waiting for you \\nWaiting for you to come and take me home \\nBut youre not the first to come around \\nTheres a lot of things \\nThat youve got to do \\nTo make me feel like youre the one you want me to be \\nWhen youre with me \\nIf you want to be with me,youll be with\""
            ],
            "application/vnd.google.colaboratory.intrinsic+json": {
              "type": "string"
            }
          },
          "metadata": {}
        },
        {
          "output_type": "stream",
          "name": "stdout",
          "text": [
            "\n",
            "\n",
            "...............................................................................................................................................................................\n"
          ]
        },
        {
          "output_type": "display_data",
          "data": {
            "text/plain": [
              "\"GPT2: Tulip \\nBaroo,Tulip \\nBaroo \\nThe magnetic roller skater wears a bonnet of blue \\nBonnet of blue \\nTulip \\nBaroom,though you are four walls \\nYou don't make a room,don't make a bed \\nAnd \\nI don't know why \\nIt's not your fault,it's not my fault \\nBut \\nGod,I'm a \\nMagnetic \\nRoller \\nSkater  </s>\\nI was born in \\nMay,I was raised by \\nMama \\nIn \\nMississippi \\nShe said,I ain't got no money \\nNo,no,no no,no \\nMy daddy said,You ain't no \\n\""
            ],
            "application/vnd.google.colaboratory.intrinsic+json": {
              "type": "string"
            }
          },
          "metadata": {}
        },
        {
          "output_type": "stream",
          "name": "stdout",
          "text": [
            "\n",
            "\n"
          ]
        },
        {
          "output_type": "display_data",
          "data": {
            "text/plain": [
              "\"distilGPT2 : Tulip \\nBaroo,Tulip \\nBaroo \\nThe magnetic roller skater wears a bonnet of blue \\nBonnet of blue \\nTulip \\nBaroom,though you are four walls \\nYou don't make a room,don't make a sound \\nAnd you don't have a sound,no \\nNo,no,you don't \\nI don't want to hear you \\nBut \\nIm not listening to you  </s>\\nIve been waiting for you  \\nWaiting for you to come and take me home \\nWon't you come and give me your hand \\nCause \\nIll be waiting for me \\nFor you to go and give you your hand,cause \\nId be waiting \\nWaitin\""
            ],
            "application/vnd.google.colaboratory.intrinsic+json": {
              "type": "string"
            }
          },
          "metadata": {}
        },
        {
          "output_type": "stream",
          "name": "stdout",
          "text": [
            "\n",
            "\n",
            "...............................................................................................................................................................................\n"
          ]
        },
        {
          "output_type": "display_data",
          "data": {
            "text/plain": [
              "\"GPT2: Home \\nReflections of eyes shine bright and my mind remind me \\nI long \\nTo be cold and feel alive for thats what inspires me \\nHome \\nTo be free,just to be free \\nJust to be \\nFree \\nAnd \\nIm free  </s>\\nI was born in the middle of the night \\nIn a dream,in a dream \\nOf a world that was never real \\nBut \\nIll be there \\nWith you \\nWhen the night is gone \\nYoull be there with me  </ooh \\nThe night is over \\nIt's time to leave \\nWe are the ones who are left behind \\nWho are left alone \\nWhere do we go from here \\nWhat do we do when we fall \\n\""
            ],
            "application/vnd.google.colaboratory.intrinsic+json": {
              "type": "string"
            }
          },
          "metadata": {}
        },
        {
          "output_type": "stream",
          "name": "stdout",
          "text": [
            "\n",
            "\n"
          ]
        },
        {
          "output_type": "display_data",
          "data": {
            "text/plain": [
              "\"distilGPT2 : Home \\nReflections of eyes shine bright and my mind remind me \\nI long \\nTo be cold and feel alive for thats what inspires me \\nHome \\nTo be free,just like me  </s>\\nI've been waiting for you \\nFor a long time \\nBut \\nIm not sure if \\nIll come back \\nAnd \\nIts not the same \\nThe same,the same,its the same,it's the same as me  \\nYoure the one \\nThat \\nId rather be \\nThan the one that i am \\nWhen i am alone \\nIn the same room \\nWith the same clothes \\nLike a child \\nWho wouldnt cry \\nIf i was a child to me I wouldnt be a child\""
            ],
            "application/vnd.google.colaboratory.intrinsic+json": {
              "type": "string"
            }
          },
          "metadata": {}
        },
        {
          "output_type": "stream",
          "name": "stdout",
          "text": [
            "\n",
            "\n",
            "...............................................................................................................................................................................\n"
          ]
        },
        {
          "output_type": "display_data",
          "data": {
            "text/plain": [
              "\"GPT2: Patriots of the wasteland \\nTorching two hundred years \\nDragging my spirit back \\nDeep into the dungeon again \\nOh,bring back crucifixion \\nCry the moral death's head legion \\nUsing steel and bone \\nI'm the \\nDevil's \\nMark \\nAnd \\nGod is my shepherd \\nMy shepherd  </s>\\nI've been waiting for you \\nFor a long time \\nBut \\nIm not here \\nSo \\nIll wait for you,for a long while \\nUntil you come to me \\nYoure the only one \\nWho can save me from this \\nHell \\nNow \\nId give you all my love,all my love \\nAll my love to you,oh \\nYour love,oh,\""
            ],
            "application/vnd.google.colaboratory.intrinsic+json": {
              "type": "string"
            }
          },
          "metadata": {}
        },
        {
          "output_type": "stream",
          "name": "stdout",
          "text": [
            "\n",
            "\n"
          ]
        },
        {
          "output_type": "display_data",
          "data": {
            "text/plain": [
              "\"distilGPT2 : Patriots of the wasteland \\nTorching two hundred years \\nDragging my spirit back \\nDeep into the dungeon again \\nOh,bring back crucifixion \\nCry the moral death's head legion \\nUsing steel and steel \\nI'm the \\nDevil of \\nHell \\nAnd \\nGod is the only one \\nHe's the only man \\nThe only one who's ever been \\nIs the only \\nMan \\nWho's ever seen the light  </s>\\nI've been waiting for the day \\nTo come and see you \\nYou're the one who will save me \\nBut \\nIm just waiting for you to come \\nSo \\nIll give you my love \\nCause \\nId rather be alone \\nThan be alone\""
            ],
            "application/vnd.google.colaboratory.intrinsic+json": {
              "type": "string"
            }
          },
          "metadata": {}
        },
        {
          "output_type": "stream",
          "name": "stdout",
          "text": [
            "\n",
            "\n",
            "...............................................................................................................................................................................\n"
          ]
        },
        {
          "output_type": "display_data",
          "data": {
            "text/plain": [
              "\"GPT2: In space,the stars are no nearer \\nJust glitters like a morgue \\nAnd \\nI dreamed \\nI was a spaceman \\nBurned like a moth in a flame \\nAnd our world is burning \\nWe're burning like a candle \\nIn space \\nThe stars are not nearer  </s>\\nI've been waiting for you \\nFor so long \\nYou've been holding on \\nTo everything \\nThat's been waiting \\nUntil now \\nIt's been so long,it's been such long,I've waited \\nSo long,for so long for you to come and take me home \\nBut \\nIm not here \\nNo,I'm not here,Im not there \\nOh,I don't know why \\nWhen \""
            ],
            "application/vnd.google.colaboratory.intrinsic+json": {
              "type": "string"
            }
          },
          "metadata": {}
        },
        {
          "output_type": "stream",
          "name": "stdout",
          "text": [
            "\n",
            "\n"
          ]
        },
        {
          "output_type": "display_data",
          "data": {
            "text/plain": [
              "'distilGPT2 : In space,the stars are no nearer \\nJust glitters like a morgue \\nAnd \\nI dreamed \\nI was a spaceman \\nBurned like a moth in a flame \\nAnd our world is a mess \\nBut \\nIm not the only one  </s>\\nIve been waiting for you \\nFor a long time \\nTo come and see me \\nSo \\nIll give you my love \\nYoull be the one \\nThatll make me feel \\nLike a stranger \\nIn space \\nThe stars are not closer \\nAs the stars are never closer to \\nWhen the stars go \\nThey are not close \\nWe are not far \\nAll the way \\nFrom \\nMars \\nWhere the stars come from \\n'"
            ],
            "application/vnd.google.colaboratory.intrinsic+json": {
              "type": "string"
            }
          },
          "metadata": {}
        },
        {
          "output_type": "stream",
          "name": "stdout",
          "text": [
            "\n",
            "\n",
            "...............................................................................................................................................................................\n"
          ]
        },
        {
          "output_type": "display_data",
          "data": {
            "text/plain": [
              "\"GPT2: This here finger of mine \\nIs gonna point to the beat,right on time \\nThis finger points in a brand new dance \\nThis finger points for a new romance \\nAnd \\nI don't know why \\nIt's not my fault,it's not your fault \\nBut it's not mine,I'm not the only one \\nWho's gonna point the finger at me \\nCause \\nIm not the one who's gonna blame you \\nFor the things you've done \\nYou've done to me  </s>\\nI've been waiting for this moment for so long \\nTo see you again \\nIn the light of day,in the light \\nOf night \\nWith the light that you've given to me,to see you through \\nThe light that \""
            ],
            "application/vnd.google.colaboratory.intrinsic+json": {
              "type": "string"
            }
          },
          "metadata": {}
        },
        {
          "output_type": "stream",
          "name": "stdout",
          "text": [
            "\n",
            "\n"
          ]
        },
        {
          "output_type": "display_data",
          "data": {
            "text/plain": [
              "\"distilGPT2 : This here finger of mine \\nIs gonna point to the beat,right on time \\nThis finger points in a brand new dance \\nThis finger points for a new romance  </s>\\nI've been waiting for the last one \\nI'm waiting for you \\nAnd \\nIm waiting for your love \\nFor your love to come and go \\nSo \\nIll give you my love,my love,and \\nYoull give me your love,your love,oh \\nOh,ohoh,oh,I know \\nThat \\nLord knows that \\nHe loves me \\nYes,Lord knows \\nTheres a time when \\nGod loves us \\nWhen \\nWe all fall apart \\nThen we all fall down \\nNow \\nAll \\nId\""
            ],
            "application/vnd.google.colaboratory.intrinsic+json": {
              "type": "string"
            }
          },
          "metadata": {}
        },
        {
          "output_type": "stream",
          "name": "stdout",
          "text": [
            "\n",
            "\n",
            "...............................................................................................................................................................................\n"
          ]
        },
        {
          "output_type": "display_data",
          "data": {
            "text/plain": [
              "\"GPT2: And so we say \\nWe ain't got life \\nDon't want a cardboard cutout \\nDon't want a plastic knife \\nNow \\nI know,time can march \\nWith its charging feet \\nNow,I know \\nTime can bend \\nAnd it can break \\nBut time can bend and break  </s>\\nI've been waiting for you \\nFor so long \\nYou've been holding on to me \\nIt's been so long,I've waited for you to come and take me home \\nSo long,it's been such a long,long time \\nTo be so far away \\nFrom you,to you,from you,you,you \\nOh,oh,ohohoh \\nAh,ah,ah \\nWell,I\""
            ],
            "application/vnd.google.colaboratory.intrinsic+json": {
              "type": "string"
            }
          },
          "metadata": {}
        },
        {
          "output_type": "stream",
          "name": "stdout",
          "text": [
            "\n",
            "\n"
          ]
        },
        {
          "output_type": "display_data",
          "data": {
            "text/plain": [
              "\"distilGPT2 : And so we say \\nWe ain't got life \\nDon't want a cardboard cutout \\nDon't want a plastic knife \\nNow \\nI know,time can march \\nWith its charging feet \\nNow,I know \\nIt's time to move on \\nAnd so \\nSo we say we ain't gettin' high \\nBut so we do \\nWell,I'm gonna get high  </s>\\nI've been waiting for a miracle \\nTo come and take me home \\nOh,I can't believe \\nThat you're the only one \\nWho's gonna save me \\nYou're the one who saves me,oh,oh \\nYeah,I'll save you,ohoh,yeah,yeah \\nOoh,ooh,O\""
            ],
            "application/vnd.google.colaboratory.intrinsic+json": {
              "type": "string"
            }
          },
          "metadata": {}
        },
        {
          "output_type": "stream",
          "name": "stdout",
          "text": [
            "\n",
            "\n",
            "...............................................................................................................................................................................\n"
          ]
        },
        {
          "output_type": "display_data",
          "data": {
            "text/plain": [
              "\"GPT2: Has anybody got a cigarette \\nHave you declared a disaster zone \\nOh,your car is a total wreck \\nAnd \\nI just can't go back home \\nMy girlie,she had the nerve to call me \\nShe said,I'm sorry,but you're not allowed to drive \\nYou're a total disgrace \\nYour car is just a total mess \\nIt's a total waste of my time \\nBut \\nGod,I wish that \\nThat \\nWe could have had a little more time  </s>\\nI've been waiting for you \\nFor so long \\nDon't you know \\nThere's something wrong \\nWith your eyes \\nWhen you look into my eyes,I see \\nWhat you see,what you feel \\nJust like\""
            ],
            "application/vnd.google.colaboratory.intrinsic+json": {
              "type": "string"
            }
          },
          "metadata": {}
        },
        {
          "output_type": "stream",
          "name": "stdout",
          "text": [
            "\n",
            "\n"
          ]
        },
        {
          "output_type": "display_data",
          "data": {
            "text/plain": [
              "\"distilGPT2 : Has anybody got a cigarette \\nHave you declared a disaster zone \\nOh,your car is a total wreck \\nAnd \\nI just can't go back home \\nMy girlie,she had the best day of her life \\nShe said,I'm gonna have to go back to school \\nWell,I've been waiting for a miracle \\nBut it's just not the way it used to be \\nIt's just the way you're supposed to do it \\nYou know,you know,I don't want to be a part of it  </s>\\nI'm a man,I am a man \\nA man,and \\nGod is a woman \\nSo,I want to know \\nWhat's the matter \\nIf \\nIm going to make you cry \""
            ],
            "application/vnd.google.colaboratory.intrinsic+json": {
              "type": "string"
            }
          },
          "metadata": {}
        },
        {
          "output_type": "stream",
          "name": "stdout",
          "text": [
            "\n",
            "\n",
            "...............................................................................................................................................................................\n"
          ]
        },
        {
          "output_type": "display_data",
          "data": {
            "text/plain": [
              "\"GPT2: Let me tell you about \\nWayne and his deals of cocaine \\nA little more every day \\nHolding for a friend till the band do well \\nThen the \\nDEA's gonna let you know \\nThat \\nI'm a real man \\nAnd you can get anything you want \\nBut you can't get anything if you don't have a dollar \\nYou can't even get anything for free \\nSo \\nMaggie,let me tell ya about the deal that you made \\nWith \\nBilly \\nBrown \\nWell,he was a real good friend of mine \\nHe was a big ol' \\nBBoy \\nBoy \\nYeah,he had a real big \\nGentleman's deal \\nOh,and he was a good\""
            ],
            "application/vnd.google.colaboratory.intrinsic+json": {
              "type": "string"
            }
          },
          "metadata": {}
        },
        {
          "output_type": "stream",
          "name": "stdout",
          "text": [
            "\n",
            "\n"
          ]
        },
        {
          "output_type": "display_data",
          "data": {
            "text/plain": [
              "\"distilGPT2 : Let me tell you about \\nWayne and his deals of cocaine \\nA little more every day \\nHolding for a friend till the band do well \\nThen the \\nDEA,the \\nDJ,and \\nThe \\nDC \\nAll the time \\nI've been here before \\nBut \\nIm not here to tell you \\nThat \\nIll never be here again  </s>\\nIve been waiting \\nFor a long time  </t>\\nTheres a light in my eyes \\nAnd \\nId be waiting for a moment \\nTo come and see me \\nIn the light of the night \\nWith the light \\nOf the night,with the light that shines \\nThrough my eyes,I see \\nYoull see \""
            ],
            "application/vnd.google.colaboratory.intrinsic+json": {
              "type": "string"
            }
          },
          "metadata": {}
        },
        {
          "output_type": "stream",
          "name": "stdout",
          "text": [
            "\n",
            "\n",
            "...............................................................................................................................................................................\n"
          ]
        },
        {
          "output_type": "display_data",
          "data": {
            "text/plain": [
              "\"GPT2: Ooh \\nThis is the city of the dead \\nAs we lie side by side in bed \\nOoh \\nI'd do somethin' else instead \\nBut it is the city of my dreams \\nAnd it is my heart that you are dreaming of \\nIt is the heart of my heart \\nOh,it is the \\nHeart of my \\nGod  </s>\\nI've been waiting for you \\nFor so long \\nYou've been holding me down \\nDon't you know \\nThat you're the only one \\nWho can save me \\nFrom this fate \\nWe've been living in \\nNow we're living in hell \\nSo we can't die \\nNo,no,no \\nIf you can't see \\nThen you\""
            ],
            "application/vnd.google.colaboratory.intrinsic+json": {
              "type": "string"
            }
          },
          "metadata": {}
        },
        {
          "output_type": "stream",
          "name": "stdout",
          "text": [
            "\n",
            "\n"
          ]
        },
        {
          "output_type": "display_data",
          "data": {
            "text/plain": [
              "\"distilGPT2 : Ooh \\nThis is the city of the dead \\nAs we lie side by side in bed \\nOoh \\nI'd do somethin' else instead \\nBut it is the city of my dreams \\nAnd it is my heart \\nIt is my soul \\nOh,oh,ohoh  </s>\\nI've been waiting for you \\nFor a long time \\nTo come and see me \\nIn the dark,in the light \\nOf the night \\nWhere the light is shining \\nThrough the night,through the light of the night and the light that shines \\nThe light of my life \\nIs shining through the night through the dark \\nWith the light in my eyes \\nSo bright,so bright \\nNow,I've got to see you\""
            ],
            "application/vnd.google.colaboratory.intrinsic+json": {
              "type": "string"
            }
          },
          "metadata": {}
        },
        {
          "output_type": "stream",
          "name": "stdout",
          "text": [
            "\n",
            "\n",
            "...............................................................................................................................................................................\n"
          ]
        },
        {
          "output_type": "display_data",
          "data": {
            "text/plain": [
              "\"GPT2: ,,,,,The prisoner meets the muppet hifi \\nNorth of \\nWatford \\nJunction \\nWe get in but we don't have fun \\nAnd we leave before the truncheons \\nSo it's back to the \\nCadillac \\nThe \\nMaggie \\nCherokee,the \\nPete \\nCaribbean \\nYou know \\nI'm a \\nBuffalo \\nSoldier \\nBut you're not a soldier \\nNo,you're not \\nAmerican \\nYes,you are \\nAmerica  </s>\\nI've been waiting for you \\nFor a long time \\nTo come and take me home \\nIt's been a long,long time,I've waited for you to come and\""
            ],
            "application/vnd.google.colaboratory.intrinsic+json": {
              "type": "string"
            }
          },
          "metadata": {}
        },
        {
          "output_type": "stream",
          "name": "stdout",
          "text": [
            "\n",
            "\n"
          ]
        },
        {
          "output_type": "display_data",
          "data": {
            "text/plain": [
              "\"distilGPT2 : ,,,,,The prisoner meets the muppet hifi \\nNorth of \\nWatford \\nJunction \\nWe get in but we don't have fun \\nAnd we leave before the truncheons \\nSo it's back to you \\nI'm not the only one \\nYou're the one  </s>\\nI've been waiting for you to come and take me home \\nIt's been a long time since \\nWhen you've been around \\nBut you've never been so far away \\nNow you're just a stranger to me \\nJust a stranger,just a stranger \\nTo me,I'm a stranger in a strange world \\nOh,I don't know why \\nWell,I can't believe \\nThat you're the only person \\nWho\""
            ],
            "application/vnd.google.colaboratory.intrinsic+json": {
              "type": "string"
            }
          },
          "metadata": {}
        },
        {
          "output_type": "stream",
          "name": "stdout",
          "text": [
            "\n",
            "\n",
            "...............................................................................................................................................................................\n"
          ]
        },
        {
          "output_type": "display_data",
          "data": {
            "text/plain": [
              "\"GPT2: We're not young anymore \\nWhat are you so scared of \\nIs it being alone when we no longer have the sun \\nI don't need easy if you're there \\nYou're not the only one \\nWho's got the power \\nTo make you feel like you're not alone \\nIt's not the first time \\nBut it's the last time  </s>\\nI've been waiting for you \\nFor you to come and take me home \\nNow \\nIm waiting for your love \\nAnd \\nIll take you home tonight \\nWhen youre with me \\nWe can be together \\nIn the sky \\nWith the sun in our eyes \\nTogether in the sky with the sun,together \\nThe sun,the sun,it shines \\nOn\""
            ],
            "application/vnd.google.colaboratory.intrinsic+json": {
              "type": "string"
            }
          },
          "metadata": {}
        },
        {
          "output_type": "stream",
          "name": "stdout",
          "text": [
            "\n",
            "\n"
          ]
        },
        {
          "output_type": "display_data",
          "data": {
            "text/plain": [
              "\"distilGPT2 : We're not young anymore \\nWhat are you so scared of \\nIs it being alone when we no longer have the sun \\nI don't need easy if you're there with me \\nYou're not the only one \\nWho's got the power \\nTo make you feel like you're the one  </s>\\nI've been waiting for you \\nAnd \\nIll be waiting for your love \\nFor your love to come true \\nBut \\nIm waiting for the love to break \\nIts not enough \\nIt's not enough for me to love you,oh,oh \\nOh,oh oh,ohoh oh \\nOoh,ooh oh oh,Oh oh oh ohoh,Oh \\nWhen \\nId be with you,when you're alone \\n\""
            ],
            "application/vnd.google.colaboratory.intrinsic+json": {
              "type": "string"
            }
          },
          "metadata": {}
        },
        {
          "output_type": "stream",
          "name": "stdout",
          "text": [
            "\n",
            "\n",
            "...............................................................................................................................................................................\n"
          ]
        },
        {
          "output_type": "display_data",
          "data": {
            "text/plain": [
              "\"GPT2: Straight on the shoulder \\nI think like a soldier \\nI know what's right and what's wrong \\nHe knows what's right and what's wrong \\nI'm the original discriminating buffalo \\nAnd you're the only one \\nWho's got the nerve to say \\nThat \\nGod is good \\nBut you're not \\nThe only one who's got that nerve \\nTo say that you're \\nNot the only \\nOne who's gotta say that \\nYou're not the only,the only  </s>\\nI've been waiting for you \\nFor so long \\nIt's been so long,I've waited for you to come and take me home \\nSo long,it's been such a long time \\nWe've been apart \\nNow \""
            ],
            "application/vnd.google.colaboratory.intrinsic+json": {
              "type": "string"
            }
          },
          "metadata": {}
        },
        {
          "output_type": "stream",
          "name": "stdout",
          "text": [
            "\n",
            "\n"
          ]
        },
        {
          "output_type": "display_data",
          "data": {
            "text/plain": [
              "\"distilGPT2 : Straight on the shoulder \\nI think like a soldier \\nI know what's right and what's wrong \\nHe knows what's right and what's wrong \\nI'm the original discriminating buffalo \\nAnd he's got a lot to say \\nBut \\nGod,I'm not the only one \\nWho's got the nerve to say that \\nJesus \\nChrist is a man \\nSo \\nLord,Lord,I don't know \\nWhat's wrong with me,Lord \\nWell,I've got to tell you,I'll tell you \\nThat you're not the one who's gonna save me  </s>\\nI was born in the \\nNew \\nYork \\nCity of \\nJersey \\nWhen \\nFrank \\nCrombie \""
            ],
            "application/vnd.google.colaboratory.intrinsic+json": {
              "type": "string"
            }
          },
          "metadata": {}
        },
        {
          "output_type": "stream",
          "name": "stdout",
          "text": [
            "\n",
            "\n",
            "...............................................................................................................................................................................\n"
          ]
        },
        {
          "output_type": "display_data",
          "data": {
            "text/plain": [
              "\"GPT2: Well somebody told me \\nThat \\nI would be a dreamer for life \\nSomebody told me \\nI would never reach the other side \\nWell you say \\nI'm old news,but you don't know \\nWhat you're missing \\nAnd \\nGod knows that \\nYou're not the only one \\nWho's lost his mind \\nBut you're not alone  </s>\\nI've been waiting for you \\nFor so long \\nIt's been a long,long time \\nTo be with you,for so long,I've waited \\nUntil you come and take me away \\nOh,oh,ohohoh \\nWhen you come,when you come \\nOoh,oohoh,yeah,yeah \\nYeah,yeahyeah\""
            ],
            "application/vnd.google.colaboratory.intrinsic+json": {
              "type": "string"
            }
          },
          "metadata": {}
        },
        {
          "output_type": "stream",
          "name": "stdout",
          "text": [
            "\n",
            "\n"
          ]
        },
        {
          "output_type": "display_data",
          "data": {
            "text/plain": [
              "\"distilGPT2 : Well somebody told me \\nThat \\nI would be a dreamer for life \\nSomebody told me \\nI would never reach the other side \\nWell you say \\nI'm old news,but you're not old enough to know \\nAnd you say,I'm a fool,but \\nYou're not a fool \\nBut you're just a fool to me  </s>\\nWell,I've been waiting for a miracle \\nTo come and take me home \\nOh,I can't wait \\nIt's been a long time \\nSo,I'll tell you how \\nHow \\nWhen you're feeling down \\nDon't you think \\nIm gonna make it through \\nIf you can't see \\nWhat you're thinking \\nIs it gonna be\""
            ],
            "application/vnd.google.colaboratory.intrinsic+json": {
              "type": "string"
            }
          },
          "metadata": {}
        },
        {
          "output_type": "stream",
          "name": "stdout",
          "text": [
            "\n",
            "\n",
            "...............................................................................................................................................................................\n"
          ]
        },
        {
          "output_type": "display_data",
          "data": {
            "text/plain": [
              "\"GPT2: Ah ah,oh yeah \\nAh ah,oh yeah \\nAh ah,oh yeah \\nAh ah,oh yeah \\nIt is you,oh yeah \\nIt is you,oh yeah \\nI said a pressure drop \\nOh pressure,oh yeah,pressure drop  </s>\\nI've been waiting for you \\nFor a long time \\nAnd \\nIm waiting for the day \\nWhen \\nId come home \\nTo you and me \\nYoure the only one \\nWho can make me feel so alive \\nSo alive,so alive,oh,oh \\nIf you could see me now \\nIll be the only \\nOne \\nThat can make you feel so real \\nFeel so real,feel so real for me,oh oh \\nThe\""
            ],
            "application/vnd.google.colaboratory.intrinsic+json": {
              "type": "string"
            }
          },
          "metadata": {}
        },
        {
          "output_type": "stream",
          "name": "stdout",
          "text": [
            "\n",
            "\n"
          ]
        },
        {
          "output_type": "display_data",
          "data": {
            "text/plain": [
              "\"distilGPT2 : Ah ah,oh yeah \\nAh ah,oh yeah \\nAh ah,oh yeah \\nAh ah,oh yeah \\nIt is you,oh yeah \\nIt is you,oh yeah \\nI said a pressure drop \\nOh pressure,oh yeah,yeah  </s>\\nI've been waiting for you \\nFor a long time now \\nYou've been waitin' for me \\nBut \\nIm waiting for me to come \\nAnd \\nIll be waitin',waitin' \\nWaitin',I'm waiting for \\nAin't got no time to wait \\nWaiting for you,waitin',waiting for me,waiting on you,wa waiting on you  </t>\\nYou say you want me to be your man \\nWell\""
            ],
            "application/vnd.google.colaboratory.intrinsic+json": {
              "type": "string"
            }
          },
          "metadata": {}
        },
        {
          "output_type": "stream",
          "name": "stdout",
          "text": [
            "\n",
            "\n",
            "...............................................................................................................................................................................\n"
          ]
        },
        {
          "output_type": "display_data",
          "data": {
            "text/plain": [
              "\"GPT2: Let's forget what was said and give pain a rain check \\nLike before,when we stood tall over our callous sins \\nSee,all of your demons became my demons \\nOn the day that \\nI was born \\nYou were my angel,I was your angel \\nAngel,angel,angel  </s>\\nI've been waiting for you \\nFor a long time \\nAnd \\nIm waiting for the day \\nWhen you will finally see me \\nOh,when you will see me,oh \\nOoh,oh,ooh,yeah \\nYeah,yeah,yeah yeah \\nWell,I know you're waiting for me,baby \\nBut \\nIll never see you again \\nNo,I wont,no,I dont,no \\nSo\""
            ],
            "application/vnd.google.colaboratory.intrinsic+json": {
              "type": "string"
            }
          },
          "metadata": {}
        },
        {
          "output_type": "stream",
          "name": "stdout",
          "text": [
            "\n",
            "\n"
          ]
        },
        {
          "output_type": "display_data",
          "data": {
            "text/plain": [
              "\"distilGPT2 : Let's forget what was said and give pain a rain check \\nLike before,when we stood tall over our callous sins \\nSee,all of your demons became my demons \\nOn the other side of the line \\nI'm not the only one \\nAnd \\nIm not the one  </s>\\nIve been waiting for you \\nFor a long time \\nBut \\nIll be waiting for me \\nTo find you again \\nYoure the one that \\nId love to be \\nSo long,so long \\nLong,youll be my love \\nYour love is my love,your love is mine \\nMy love,my love is yours \\nOh,oh,oh \\nPlease,please,please \\nDon't let me down,don't\""
            ],
            "application/vnd.google.colaboratory.intrinsic+json": {
              "type": "string"
            }
          },
          "metadata": {}
        },
        {
          "output_type": "stream",
          "name": "stdout",
          "text": [
            "\n",
            "\n",
            "...............................................................................................................................................................................\n"
          ]
        },
        {
          "output_type": "display_data",
          "data": {
            "text/plain": [
              "\"GPT2: I feel a little lost in this world \\nI try a little noise and choke \\nI've honestly never felt this alone \\nOh,I just need someone \\nI need a little love \\nAnd \\nGod,I need it \\nBut \\nIm not the only one \\nWho needs it  </s>\\nI was born in \\nMay \\nIn the summer of \\nJune \\nWith my mother's face in the snow \\nMy father's name was \\nHenry \\nFord \\nHe was a son of the \\nIrish \\nHis father was a \\nCatholic \\nFather \\nThe \\nKing of the Franks \\nWas a son \\nOf \\nSpain \\nA son of  </o>\\nYou're the only son of a\""
            ],
            "application/vnd.google.colaboratory.intrinsic+json": {
              "type": "string"
            }
          },
          "metadata": {}
        },
        {
          "output_type": "stream",
          "name": "stdout",
          "text": [
            "\n",
            "\n"
          ]
        },
        {
          "output_type": "display_data",
          "data": {
            "text/plain": [
              "\"distilGPT2 : I feel a little lost in this world \\nI try a little noise and choke \\nI've honestly never felt this alone \\nOh,I just need someone \\nI need a little time to breathe \\nAnd if \\nGod is watching me \\nHe's watching me,watching me  </s>\\nI was born in the \\nNew \\nYork \\nCity \\nBut my parents were born there \\nMy father was born there,my mother was born \\nSo \\nIm born again \\nNow \\nIll be born again,Ill be \\nBorn again,I'm born again and \\nId be born,I am \\nThe \\nLord knows \\nThat \\nAll the things \\nThey say \\nAre true \\nWhen \\nYoure born\""
            ],
            "application/vnd.google.colaboratory.intrinsic+json": {
              "type": "string"
            }
          },
          "metadata": {}
        },
        {
          "output_type": "stream",
          "name": "stdout",
          "text": [
            "\n",
            "\n",
            "...............................................................................................................................................................................\n"
          ]
        }
      ]
    },
    {
      "cell_type": "markdown",
      "source": [
        "### INFERENCES ⏬\n",
        "\n",
        "Key Observations:\n",
        "\n",
        "* The GPT2 model generates lyrics that have a higher level of rhyme compared to the other model. However, it tends to go out of context frequently.\n",
        "* On the other hand, the Distill GPT2 model maintains context for a longer duration in its generated lyrics, but it lacks significant rhyme.\n",
        "\n",
        "**Project Focus and Objective**:\n",
        "\n",
        "* Given our project's primary goal of generating rhythmic songs, we prioritize the presence of rhyme over strict adherence to context. While the GPT2 model may occasionally deviate from the intended context, we believe it can still be managed and adjusted.\n",
        "\n",
        "By reframing the information, we emphasize the focus on generating lyrics with rhythm and acknowledge the trade-off between rhyme and context. This better aligns with the project's objective and highlights the willingness to accommodate minor contextual deviations for the sake of achieving rhythmic lyrics."
      ],
      "metadata": {
        "id": "MISrFAErZUGL"
      }
    },
    {
      "cell_type": "code",
      "source": [],
      "metadata": {
        "id": "_T2J_0B8ETtY"
      },
      "execution_count": null,
      "outputs": []
    }
  ]
}